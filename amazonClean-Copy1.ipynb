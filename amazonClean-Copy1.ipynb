{
 "cells": [
  {
   "cell_type": "markdown",
   "id": "f99813ff-4f1f-4cbe-b3bc-2da01a7d6624",
   "metadata": {},
   "source": [
    "# Import packages"
   ]
  },
  {
   "cell_type": "code",
   "execution_count": 103,
   "id": "564b6295-c3cb-4c1c-b6e0-12fa19a344f9",
   "metadata": {},
   "outputs": [
    {
     "name": "stderr",
     "output_type": "stream",
     "text": [
      "[nltk_data] Downloading package punkt to\n",
      "[nltk_data]     C:\\Users\\DELL\\AppData\\Roaming\\nltk_data...\n",
      "[nltk_data]   Package punkt is already up-to-date!\n",
      "[nltk_data] Downloading package stopwords to\n",
      "[nltk_data]     C:\\Users\\DELL\\AppData\\Roaming\\nltk_data...\n",
      "[nltk_data]   Package stopwords is already up-to-date!\n",
      "[nltk_data] Downloading package vader_lexicon to\n",
      "[nltk_data]     C:\\Users\\DELL\\AppData\\Roaming\\nltk_data...\n",
      "[nltk_data]   Package vader_lexicon is already up-to-date!\n"
     ]
    },
    {
     "data": {
      "text/plain": [
       "True"
      ]
     },
     "execution_count": 103,
     "metadata": {},
     "output_type": "execute_result"
    }
   ],
   "source": [
    "import pandas as pd \n",
    "import seaborn as sns\n",
    "import matplotlib.pyplot as plt\n",
    "import re\n",
    "import nltk\n",
    "from nltk.tokenize import word_tokenize\n",
    "from nltk.corpus import stopwords\n",
    "from nltk.sentiment import SentimentIntensityAnalyzer\n",
    "\n",
    "from sklearn.model_selection import train_test_split\n",
    "from sklearn.feature_extraction.text import TfidfVectorizer\n",
    "from sklearn.linear_model import LogisticRegression\n",
    "from sklearn.metrics import classification_report, accuracy_score\n",
    "\n",
    "nltk.download('punkt')\n",
    "nltk.download('stopwords')\n",
    "nltk.download('vader_lexicon')"
   ]
  },
  {
   "cell_type": "markdown",
   "id": "06d3af99-7e9d-4b06-ad7b-09c331358116",
   "metadata": {},
   "source": [
    "### create function to train the model later"
   ]
  },
  {
   "cell_type": "code",
   "execution_count": 104,
   "id": "2a34baf1-eb78-4a29-b5f4-bdc382eb70a0",
   "metadata": {},
   "outputs": [],
   "source": [
    "def train_and_evaluate_model(X, y):\n",
    "    # Split the data\n",
    "    X_train, X_test, y_train, y_test = train_test_split(X, y, test_size=0.3, random_state=42)\n",
    "\n",
    "    # Convert text data into TF-IDF features\n",
    "    vectorizer = TfidfVectorizer(stop_words='english')\n",
    "    X_train_tfidf = vectorizer.fit_transform(X_train)\n",
    "    X_test_tfidf = vectorizer.transform(X_test)\n",
    "\n",
    "    # Train a Logistic Regression model\n",
    "    model = LogisticRegression()\n",
    "    model.fit(X_train_tfidf, y_train)\n",
    "\n",
    "    # Make predictions\n",
    "    y_pred = model.predict(X_test_tfidf)\n",
    "\n",
    "    # Evaluate the model\n",
    "    percentage = accuracy_score(y_test, y_pred) * 100\n",
    "    formatted_percentage = f\"{percentage:.2f}%\"\n",
    "    print(\"Accuracy:\", formatted_percentage)\n",
    "    print(\"Classification Report:\")\n",
    "    print(classification_report(y_test, y_pred))\n"
   ]
  },
  {
   "cell_type": "markdown",
   "id": "a801827c-3218-47a0-850e-077898967f68",
   "metadata": {},
   "source": [
    "# Read the dataset"
   ]
  },
  {
   "cell_type": "code",
   "execution_count": 105,
   "id": "527ab9eb-f69b-40ca-b2a6-c1fa676d5a68",
   "metadata": {},
   "outputs": [],
   "source": [
    "df = pd.read_csv(\"dataset/train.csv\", header=None, names=['class_index', 'review_title', 'review_text'])\n",
    "df.index.name = 'review_id'"
   ]
  },
  {
   "cell_type": "code",
   "execution_count": 106,
   "id": "e0a18da6-5a30-44a7-9164-f3bf7e9413f9",
   "metadata": {},
   "outputs": [
    {
     "data": {
      "text/plain": [
       "(3600000, 3)"
      ]
     },
     "execution_count": 106,
     "metadata": {},
     "output_type": "execute_result"
    }
   ],
   "source": [
    "df.shape"
   ]
  },
  {
   "cell_type": "code",
   "execution_count": 107,
   "id": "1e331c7f-dc78-488a-b259-753b29e2ce9a",
   "metadata": {},
   "outputs": [
    {
     "data": {
      "text/html": [
       "<div>\n",
       "<style scoped>\n",
       "    .dataframe tbody tr th:only-of-type {\n",
       "        vertical-align: middle;\n",
       "    }\n",
       "\n",
       "    .dataframe tbody tr th {\n",
       "        vertical-align: top;\n",
       "    }\n",
       "\n",
       "    .dataframe thead th {\n",
       "        text-align: right;\n",
       "    }\n",
       "</style>\n",
       "<table border=\"1\" class=\"dataframe\">\n",
       "  <thead>\n",
       "    <tr style=\"text-align: right;\">\n",
       "      <th></th>\n",
       "      <th>class_index</th>\n",
       "      <th>review_title</th>\n",
       "      <th>review_text</th>\n",
       "    </tr>\n",
       "    <tr>\n",
       "      <th>review_id</th>\n",
       "      <th></th>\n",
       "      <th></th>\n",
       "      <th></th>\n",
       "    </tr>\n",
       "  </thead>\n",
       "  <tbody>\n",
       "    <tr>\n",
       "      <th>0</th>\n",
       "      <td>2</td>\n",
       "      <td>Stuning even for the non-gamer</td>\n",
       "      <td>This sound track was beautiful! It paints the ...</td>\n",
       "    </tr>\n",
       "    <tr>\n",
       "      <th>1</th>\n",
       "      <td>2</td>\n",
       "      <td>The best soundtrack ever to anything.</td>\n",
       "      <td>I'm reading a lot of reviews saying that this ...</td>\n",
       "    </tr>\n",
       "    <tr>\n",
       "      <th>2</th>\n",
       "      <td>2</td>\n",
       "      <td>Amazing!</td>\n",
       "      <td>This soundtrack is my favorite music of all ti...</td>\n",
       "    </tr>\n",
       "    <tr>\n",
       "      <th>3</th>\n",
       "      <td>2</td>\n",
       "      <td>Excellent Soundtrack</td>\n",
       "      <td>I truly like this soundtrack and I enjoy video...</td>\n",
       "    </tr>\n",
       "    <tr>\n",
       "      <th>4</th>\n",
       "      <td>2</td>\n",
       "      <td>Remember, Pull Your Jaw Off The Floor After He...</td>\n",
       "      <td>If you've played the game, you know how divine...</td>\n",
       "    </tr>\n",
       "  </tbody>\n",
       "</table>\n",
       "</div>"
      ],
      "text/plain": [
       "           class_index                                       review_title  \\\n",
       "review_id                                                                   \n",
       "0                    2                     Stuning even for the non-gamer   \n",
       "1                    2              The best soundtrack ever to anything.   \n",
       "2                    2                                           Amazing!   \n",
       "3                    2                               Excellent Soundtrack   \n",
       "4                    2  Remember, Pull Your Jaw Off The Floor After He...   \n",
       "\n",
       "                                                 review_text  \n",
       "review_id                                                     \n",
       "0          This sound track was beautiful! It paints the ...  \n",
       "1          I'm reading a lot of reviews saying that this ...  \n",
       "2          This soundtrack is my favorite music of all ti...  \n",
       "3          I truly like this soundtrack and I enjoy video...  \n",
       "4          If you've played the game, you know how divine...  "
      ]
     },
     "execution_count": 107,
     "metadata": {},
     "output_type": "execute_result"
    }
   ],
   "source": [
    "df = df.head(100000)\n",
    "df.head()"
   ]
  },
  {
   "cell_type": "markdown",
   "id": "955dc44e-579a-45d9-899f-e9e2f997d175",
   "metadata": {},
   "source": [
    "# Try Baseline Model before clean the data"
   ]
  },
  {
   "cell_type": "code",
   "execution_count": 108,
   "id": "fea43af3-8ba4-4611-856a-de03ed41e88d",
   "metadata": {},
   "outputs": [
    {
     "name": "stdout",
     "output_type": "stream",
     "text": [
      "Accuracy: 85.90%\n",
      "Classification Report:\n",
      "              precision    recall  f1-score   support\n",
      "\n",
      "           1       0.86      0.85      0.85     14468\n",
      "           2       0.86      0.87      0.86     15532\n",
      "\n",
      "    accuracy                           0.86     30000\n",
      "   macro avg       0.86      0.86      0.86     30000\n",
      "weighted avg       0.86      0.86      0.86     30000\n",
      "\n"
     ]
    }
   ],
   "source": [
    "x = df['review_text']\n",
    "y = df['class_index']\n",
    "\n",
    "train_and_evaluate_model(x, y)"
   ]
  },
  {
   "cell_type": "code",
   "execution_count": 109,
   "id": "3179c2ff",
   "metadata": {},
   "outputs": [
    {
     "name": "stdout",
     "output_type": "stream",
     "text": [
      "class_index\n",
      "2    51267\n",
      "1    48733\n",
      "Name: count, dtype: int64\n"
     ]
    },
    {
     "data": {
      "image/png": "[encoded data removed]",
      "text/plain": [
       "<Figure size 1000x400 with 1 Axes>"
      ]
     },
     "metadata": {},
     "output_type": "display_data"
    }
   ],
   "source": [
    "plt.figure(figsize=(10, 4))\n",
    "\n",
    "train_class_index_counts = df['class_index'].value_counts()\n",
    "print(train_class_index_counts)\n",
    "plt.subplot(1, 2, 1)\n",
    "train_class_index_counts.plot(kind='bar', color='skyblue')\n",
    "plt.title('Number of class index in train ')\n",
    "plt.xlabel('class_index')\n",
    "plt.ylabel('Number of samples')\n",
    "plt.xticks(rotation=0)\n",
    "\n",
    "\n",
    "plt.show()"
   ]
  },
  {
   "cell_type": "markdown",
   "id": "50752ff7",
   "metadata": {},
   "source": [
    "# Detect Missing Values"
   ]
  },
  {
   "cell_type": "code",
   "execution_count": 110,
   "id": "ded1c302-e0ca-46ba-860b-893b502062d1",
   "metadata": {},
   "outputs": [
    {
     "name": "stdout",
     "output_type": "stream",
     "text": [
      "<class 'pandas.core.frame.DataFrame'>\n",
      "Index: 5 entries, 13265 to 37347\n",
      "Data columns (total 3 columns):\n",
      " #   Column        Non-Null Count  Dtype \n",
      "---  ------        --------------  ----- \n",
      " 0   class_index   5 non-null      int64 \n",
      " 1   review_title  0 non-null      object\n",
      " 2   review_text   5 non-null      object\n",
      "dtypes: int64(1), object(2)\n",
      "memory usage: 160.0+ bytes\n"
     ]
    }
   ],
   "source": [
    "df[df.isnull().any(axis=1)].info()"
   ]
  },
  {
   "cell_type": "markdown",
   "id": "af94836c",
   "metadata": {},
   "source": [
    "### filling the missing values"
   ]
  },
  {
   "cell_type": "code",
   "execution_count": 111,
   "id": "ef8be4ed-b4d0-4f92-b7ad-3f33d2ab8923",
   "metadata": {},
   "outputs": [],
   "source": [
    "df['review_title'] = df['review_title'].fillna('No Title')"
   ]
  },
  {
   "cell_type": "code",
   "execution_count": 112,
   "id": "5fca9e99",
   "metadata": {},
   "outputs": [
    {
     "name": "stdout",
     "output_type": "stream",
     "text": [
      "<class 'pandas.core.frame.DataFrame'>\n",
      "Index: 0 entries\n",
      "Data columns (total 3 columns):\n",
      " #   Column        Non-Null Count  Dtype \n",
      "---  ------        --------------  ----- \n",
      " 0   class_index   0 non-null      int64 \n",
      " 1   review_title  0 non-null      object\n",
      " 2   review_text   0 non-null      object\n",
      "dtypes: int64(1), object(2)\n",
      "memory usage: 0.0+ bytes\n"
     ]
    }
   ],
   "source": [
    "df[df.isnull().any(axis=1)].info()"
   ]
  },
  {
   "cell_type": "code",
   "execution_count": 113,
   "id": "c2e6a9f3-0e86-470c-ae8e-0be9f8304fc6",
   "metadata": {},
   "outputs": [
    {
     "data": {
      "text/html": [
       "<div>\n",
       "<style scoped>\n",
       "    .dataframe tbody tr th:only-of-type {\n",
       "        vertical-align: middle;\n",
       "    }\n",
       "\n",
       "    .dataframe tbody tr th {\n",
       "        vertical-align: top;\n",
       "    }\n",
       "\n",
       "    .dataframe thead th {\n",
       "        text-align: right;\n",
       "    }\n",
       "</style>\n",
       "<table border=\"1\" class=\"dataframe\">\n",
       "  <thead>\n",
       "    <tr style=\"text-align: right;\">\n",
       "      <th></th>\n",
       "      <th>class_index</th>\n",
       "      <th>review_title</th>\n",
       "      <th>review_text</th>\n",
       "    </tr>\n",
       "    <tr>\n",
       "      <th>review_id</th>\n",
       "      <th></th>\n",
       "      <th></th>\n",
       "      <th></th>\n",
       "    </tr>\n",
       "  </thead>\n",
       "  <tbody>\n",
       "  </tbody>\n",
       "</table>\n",
       "</div>"
      ],
      "text/plain": [
       "Empty DataFrame\n",
       "Columns: [class_index, review_title, review_text]\n",
       "Index: []"
      ]
     },
     "execution_count": 113,
     "metadata": {},
     "output_type": "execute_result"
    }
   ],
   "source": [
    "df[df.duplicated()]"
   ]
  },
  {
   "cell_type": "markdown",
   "id": "4ce768d3",
   "metadata": {},
   "source": [
    "# Text Cleaning"
   ]
  },
  {
   "cell_type": "markdown",
   "id": "a26cd1a3",
   "metadata": {},
   "source": [
    "### Convert Text To Lowercase"
   ]
  },
  {
   "cell_type": "code",
   "execution_count": 114,
   "id": "dd29bec8",
   "metadata": {},
   "outputs": [
    {
     "data": {
      "text/plain": [
       "class_index     87891\n",
       "review_title    87891\n",
       "review_text     87891\n",
       "dtype: int64"
      ]
     },
     "execution_count": 114,
     "metadata": {},
     "output_type": "execute_result"
    }
   ],
   "source": [
    "df[df['review_title'].str.contains(r'[A-Z]', na=False)].count()"
   ]
  },
  {
   "cell_type": "code",
   "execution_count": 115,
   "id": "9566d75d",
   "metadata": {},
   "outputs": [],
   "source": [
    "# Filter rows where 'review_title' contains uppercase letters\n",
    "uppercase_rows = df[df['review_title'].str.contains(r'[A-Z]', na=False)]\n",
    "\n",
    "# Convert 'review_title' in those rows to lowercase\n",
    "df.loc[uppercase_rows.index, 'review_title'] = df.loc[uppercase_rows.index, 'review_title'].str.lower()\n",
    "\n"
   ]
  },
  {
   "cell_type": "code",
   "execution_count": 116,
   "id": "dad6df4a",
   "metadata": {},
   "outputs": [
    {
     "data": {
      "text/plain": [
       "class_index     0\n",
       "review_title    0\n",
       "review_text     0\n",
       "dtype: int64"
      ]
     },
     "execution_count": 116,
     "metadata": {},
     "output_type": "execute_result"
    }
   ],
   "source": [
    "df[df['review_title'].str.contains(r'[A-Z]', na=False)].count()"
   ]
  },
  {
   "cell_type": "code",
   "execution_count": 117,
   "id": "b2121491",
   "metadata": {},
   "outputs": [
    {
     "data": {
      "text/plain": [
       "class_index     97543\n",
       "review_title    97543\n",
       "review_text     97543\n",
       "dtype: int64"
      ]
     },
     "execution_count": 117,
     "metadata": {},
     "output_type": "execute_result"
    }
   ],
   "source": [
    "df[df[\"review_text\"].str.contains(r'[A-Z]', na=False)].count()"
   ]
  },
  {
   "cell_type": "code",
   "execution_count": 118,
   "id": "d1b8afb4",
   "metadata": {},
   "outputs": [],
   "source": [
    "# Filter rows where 'review_text' contains uppercase letters\n",
    "uppercase_rows = df[df['review_text'].str.contains(r'[A-Z]', na=False)]\n",
    "\n",
    "# Convert 'review_title' in those rows to lowercase\n",
    "df.loc[uppercase_rows.index, 'review_text'] = df.loc[uppercase_rows.index, 'review_title'].str.lower()"
   ]
  },
  {
   "cell_type": "code",
   "execution_count": 119,
   "id": "463a16f5",
   "metadata": {},
   "outputs": [
    {
     "data": {
      "text/plain": [
       "class_index     0\n",
       "review_title    0\n",
       "review_text     0\n",
       "dtype: int64"
      ]
     },
     "execution_count": 119,
     "metadata": {},
     "output_type": "execute_result"
    }
   ],
   "source": [
    "df[df[\"review_text\"].str.contains(r'[A-Z]', na=False)].count()"
   ]
  },
  {
   "cell_type": "markdown",
   "id": "3f9d2b9d",
   "metadata": {},
   "source": [
    "### work in sample example"
   ]
  },
  {
   "cell_type": "markdown",
   "id": "e9f0e5f0",
   "metadata": {},
   "source": [
    "### detect stop words and remove theme"
   ]
  },
  {
   "cell_type": "markdown",
   "id": "86fa42da",
   "metadata": {},
   "source": [
    "## Get real sentiments"
   ]
  },
  {
   "cell_type": "markdown",
   "id": "f1908269-7f89-447f-88fe-2ccae375beae",
   "metadata": {},
   "source": [
    "### Create the function"
   ]
  },
  {
   "cell_type": "code",
   "execution_count": 120,
   "id": "460bf0f0-70fe-412a-bc9c-15b3c27a4f0c",
   "metadata": {},
   "outputs": [],
   "source": [
    "sia = SentimentIntensityAnalyzer()\n",
    "\n",
    "def assign_real_class_index(text):\n",
    "    sentiment = sia.polarity_scores(text)\n",
    "    compound = sentiment['compound']\n",
    "    if compound >= 0.05:\n",
    "        return 2  # Positive sentiment\n",
    "    elif compound <= -0.05:\n",
    "        return 1  # Negative sentiment\n",
    "    else:\n",
    "        return 0  # Neutral sentiment\n"
   ]
  },
  {
   "cell_type": "markdown",
   "id": "d37110d0-bdd8-46c7-a890-f597191c4f9c",
   "metadata": {},
   "source": [
    "### Add new column"
   ]
  },
  {
   "cell_type": "code",
   "execution_count": 121,
   "id": "5059e9eb-0f6a-45f6-a998-bb5f22083248",
   "metadata": {},
   "outputs": [
    {
     "data": {
      "text/html": [
       "<div>\n",
       "<style scoped>\n",
       "    .dataframe tbody tr th:only-of-type {\n",
       "        vertical-align: middle;\n",
       "    }\n",
       "\n",
       "    .dataframe tbody tr th {\n",
       "        vertical-align: top;\n",
       "    }\n",
       "\n",
       "    .dataframe thead th {\n",
       "        text-align: right;\n",
       "    }\n",
       "</style>\n",
       "<table border=\"1\" class=\"dataframe\">\n",
       "  <thead>\n",
       "    <tr style=\"text-align: right;\">\n",
       "      <th></th>\n",
       "      <th>class_index</th>\n",
       "      <th>review_title</th>\n",
       "      <th>review_text</th>\n",
       "      <th>real_class_index</th>\n",
       "    </tr>\n",
       "    <tr>\n",
       "      <th>review_id</th>\n",
       "      <th></th>\n",
       "      <th></th>\n",
       "      <th></th>\n",
       "      <th></th>\n",
       "    </tr>\n",
       "  </thead>\n",
       "  <tbody>\n",
       "    <tr>\n",
       "      <th>15896</th>\n",
       "      <td>1</td>\n",
       "      <td>really, all this just to sell books</td>\n",
       "      <td>really, all this just to sell books</td>\n",
       "      <td>0</td>\n",
       "    </tr>\n",
       "    <tr>\n",
       "      <th>3400</th>\n",
       "      <td>1</td>\n",
       "      <td>hate this printer! annoying messages to reset ...</td>\n",
       "      <td>hate this printer! annoying messages to reset ...</td>\n",
       "      <td>1</td>\n",
       "    </tr>\n",
       "    <tr>\n",
       "      <th>65952</th>\n",
       "      <td>2</td>\n",
       "      <td>astral projection deliver again</td>\n",
       "      <td>astral projection deliver again</td>\n",
       "      <td>0</td>\n",
       "    </tr>\n",
       "    <tr>\n",
       "      <th>18258</th>\n",
       "      <td>1</td>\n",
       "      <td>not happy with scale innaccurate</td>\n",
       "      <td>not happy with scale innaccurate</td>\n",
       "      <td>1</td>\n",
       "    </tr>\n",
       "    <tr>\n",
       "      <th>82058</th>\n",
       "      <td>2</td>\n",
       "      <td>a fascinating read...</td>\n",
       "      <td>a fascinating read...</td>\n",
       "      <td>2</td>\n",
       "    </tr>\n",
       "    <tr>\n",
       "      <th>29418</th>\n",
       "      <td>1</td>\n",
       "      <td>very disappointed</td>\n",
       "      <td>very disappointed</td>\n",
       "      <td>1</td>\n",
       "    </tr>\n",
       "    <tr>\n",
       "      <th>55692</th>\n",
       "      <td>2</td>\n",
       "      <td>fascinating</td>\n",
       "      <td>fascinating</td>\n",
       "      <td>2</td>\n",
       "    </tr>\n",
       "  </tbody>\n",
       "</table>\n",
       "</div>"
      ],
      "text/plain": [
       "           class_index                                       review_title  \\\n",
       "review_id                                                                   \n",
       "15896                1                really, all this just to sell books   \n",
       "3400                 1  hate this printer! annoying messages to reset ...   \n",
       "65952                2                    astral projection deliver again   \n",
       "18258                1                   not happy with scale innaccurate   \n",
       "82058                2                              a fascinating read...   \n",
       "29418                1                                  very disappointed   \n",
       "55692                2                                        fascinating   \n",
       "\n",
       "                                                 review_text  real_class_index  \n",
       "review_id                                                                       \n",
       "15896                    really, all this just to sell books                 0  \n",
       "3400       hate this printer! annoying messages to reset ...                 1  \n",
       "65952                        astral projection deliver again                 0  \n",
       "18258                       not happy with scale innaccurate                 1  \n",
       "82058                                  a fascinating read...                 2  \n",
       "29418                                      very disappointed                 1  \n",
       "55692                                            fascinating                 2  "
      ]
     },
     "execution_count": 121,
     "metadata": {},
     "output_type": "execute_result"
    }
   ],
   "source": [
    "df['real_class_index'] = df['review_text'].apply(assign_real_class_index)\n",
    "df.sample(7)"
   ]
  },
  {
   "cell_type": "code",
   "execution_count": 122,
   "id": "1770f911-a90a-46f3-8b34-6fc8006af92a",
   "metadata": {},
   "outputs": [
    {
     "data": {
      "text/plain": [
       "(50606, 4)"
      ]
     },
     "execution_count": 122,
     "metadata": {},
     "output_type": "execute_result"
    }
   ],
   "source": [
    "df[df[\"class_index\"] != df[\"real_class_index\"]].shape"
   ]
  },
  {
   "cell_type": "code",
   "execution_count": 123,
   "id": "2a68c552-b3fa-4920-92c0-8e3d0a287693",
   "metadata": {},
   "outputs": [
    {
     "name": "stdout",
     "output_type": "stream",
     "text": [
      "real_class_index\n",
      "0    39071\n",
      "2    38487\n",
      "1    22442\n",
      "Name: count, dtype: int64\n"
     ]
    },
    {
     "data": {
      "image/png": "[encoded data removed]",
      "text/plain": [
       "<Figure size 1000x400 with 1 Axes>"
      ]
     },
     "metadata": {},
     "output_type": "display_data"
    }
   ],
   "source": [
    "plt.figure(figsize=(10, 4))\n",
    "\n",
    "train_class_index_counts = df['real_class_index'].value_counts()\n",
    "print(train_class_index_counts)\n",
    "plt.subplot(1, 2, 1)\n",
    "train_class_index_counts.plot(kind='bar', color='skyblue')\n",
    "plt.title('Number of class index in train ')\n",
    "plt.xlabel('real_class_index')\n",
    "plt.ylabel('Number of samples')\n",
    "plt.xticks(rotation=0)\n",
    "\n",
    "\n",
    "plt.show()"
   ]
  },
  {
   "cell_type": "code",
   "execution_count": 124,
   "id": "88be6a72-14e9-403a-b4fa-624c41e8ed08",
   "metadata": {},
   "outputs": [
    {
     "name": "stdout",
     "output_type": "stream",
     "text": [
      "real_class_index\n",
      "2    38487\n",
      "1    22442\n",
      "Name: count, dtype: int64\n"
     ]
    },
    {
     "data": {
      "image/png": "[encoded data removed]",
      "text/plain": [
       "<Figure size 1000x400 with 1 Axes>"
      ]
     },
     "metadata": {},
     "output_type": "display_data"
    }
   ],
   "source": [
    "# Drop rows where 'real_class_index' is 0\n",
    "df = df[df['real_class_index'] != 0]\n",
    "\n",
    "plt.figure(figsize=(10, 4))\n",
    "\n",
    "train_class_index_counts = df['real_class_index'].value_counts()\n",
    "print(train_class_index_counts)\n",
    "plt.subplot(1, 2, 1)\n",
    "train_class_index_counts.plot(kind='bar', color='skyblue')\n",
    "plt.title('Number of class index in train ')\n",
    "plt.xlabel('real_class_index')\n",
    "plt.ylabel('Number of samples')\n",
    "plt.xticks(rotation=0)\n",
    "\n",
    "\n",
    "plt.show()"
   ]
  },
  {
   "cell_type": "markdown",
   "id": "56ad3a58-0475-4fec-9fa5-b9b82f4c556f",
   "metadata": {},
   "source": [
    "# Train the model after cleaning"
   ]
  },
  {
   "cell_type": "code",
   "execution_count": 125,
   "id": "c7c70613-8b4d-4038-a99b-b23da0be069e",
   "metadata": {},
   "outputs": [
    {
     "name": "stdout",
     "output_type": "stream",
     "text": [
      "Accuracy: 89.01%\n",
      "Classification Report:\n",
      "              precision    recall  f1-score   support\n",
      "\n",
      "           1       0.90      0.78      0.84      6657\n",
      "           2       0.89      0.95      0.92     11622\n",
      "\n",
      "    accuracy                           0.89     18279\n",
      "   macro avg       0.89      0.87      0.88     18279\n",
      "weighted avg       0.89      0.89      0.89     18279\n",
      "\n"
     ]
    }
   ],
   "source": [
    "x = df['review_text']\n",
    "y = df['real_class_index']\n",
    "\n",
    "train_and_evaluate_model(x, y)"
   ]
  },
  {
   "cell_type": "code",
   "execution_count": null,
   "id": "f8da96f0-c50c-4a29-b37d-a82dbd673875",
   "metadata": {},
   "outputs": [],
   "source": []
  }
 ],
 "metadata": {
  "kernelspec": {
   "display_name": "Python 3 (ipykernel)",
   "language": "python",
   "name": "python3"
  },
  "language_info": {
   "codemirror_mode": {
    "name": "ipython",
    "version": 3
   },
   "file_extension": ".py",
   "mimetype": "text/x-python",
   "name": "python",
   "nbconvert_exporter": "python",
   "pygments_lexer": "ipython3",
   "version": "3.12.4"
  }
 },
 "nbformat": 4,
 "nbformat_minor": 5
}
