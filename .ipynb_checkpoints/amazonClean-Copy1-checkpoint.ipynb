{
 "cells": [
  {
   "cell_type": "markdown",
   "id": "f99813ff-4f1f-4cbe-b3bc-2da01a7d6624",
   "metadata": {},
   "source": [
    "# Import packages"
   ]
  },
  {
   "cell_type": "code",
   "execution_count": 1,
   "id": "564b6295-c3cb-4c1c-b6e0-12fa19a344f9",
   "metadata": {},
   "outputs": [
    {
     "name": "stderr",
     "output_type": "stream",
     "text": [
      "[nltk_data] Downloading package punkt to\n",
      "[nltk_data]     C:\\Users\\DELL\\AppData\\Roaming\\nltk_data...\n",
      "[nltk_data]   Package punkt is already up-to-date!\n",
      "[nltk_data] Downloading package stopwords to\n",
      "[nltk_data]     C:\\Users\\DELL\\AppData\\Roaming\\nltk_data...\n",
      "[nltk_data]   Package stopwords is already up-to-date!\n",
      "[nltk_data] Downloading package vader_lexicon to\n",
      "[nltk_data]     C:\\Users\\DELL\\AppData\\Roaming\\nltk_data...\n",
      "[nltk_data]   Package vader_lexicon is already up-to-date!\n"
     ]
    },
    {
     "data": {
      "text/plain": [
       "True"
      ]
     },
     "execution_count": 1,
     "metadata": {},
     "output_type": "execute_result"
    }
   ],
   "source": [
    "import pandas as pd \n",
    "import seaborn as sns\n",
    "import matplotlib.pyplot as plt\n",
    "import re\n",
    "import nltk\n",
    "from nltk.tokenize import word_tokenize\n",
    "from nltk.corpus import stopwords\n",
    "from nltk.sentiment import SentimentIntensityAnalyzer\n",
    "\n",
    "from sklearn.model_selection import train_test_split\n",
    "from sklearn.feature_extraction.text import TfidfVectorizer\n",
    "from sklearn.linear_model import LogisticRegression\n",
    "from sklearn.metrics import classification_report, accuracy_score\n",
    "\n",
    "nltk.download('punkt')\n",
    "nltk.download('stopwords')\n",
    "nltk.download('vader_lexicon')"
   ]
  },
  {
   "cell_type": "code",
   "execution_count": 2,
   "id": "2a34baf1-eb78-4a29-b5f4-bdc382eb70a0",
   "metadata": {},
   "outputs": [],
   "source": [
    "def train_and_evaluate_model(X, y):\n",
    "    # Split the data\n",
    "    X_train, X_test, y_train, y_test = train_test_split(X, y, test_size=0.3, random_state=42)\n",
    "\n",
    "    # Convert text data into TF-IDF features\n",
    "    vectorizer = TfidfVectorizer(stop_words='english')\n",
    "    X_train_tfidf = vectorizer.fit_transform(X_train)\n",
    "    X_test_tfidf = vectorizer.transform(X_test)\n",
    "\n",
    "    # Train a Logistic Regression model\n",
    "    model = LogisticRegression()\n",
    "    model.fit(X_train_tfidf, y_train)\n",
    "\n",
    "    # Make predictions\n",
    "    y_pred = model.predict(X_test_tfidf)\n",
    "\n",
    "    # Evaluate the model\n",
    "    print(\"Accuracy:\", accuracy_score(y_test, y_pred))\n",
    "    print(\"Classification Report:\")\n",
    "    print(classification_report(y_test, y_pred))\n"
   ]
  },
  {
   "cell_type": "markdown",
   "id": "a801827c-3218-47a0-850e-077898967f68",
   "metadata": {},
   "source": [
    "# Read the dataset"
   ]
  },
  {
   "cell_type": "code",
   "execution_count": 3,
   "id": "527ab9eb-f69b-40ca-b2a6-c1fa676d5a68",
   "metadata": {},
   "outputs": [],
   "source": [
    "df = pd.read_csv(\"dataset/train.csv\", header=None, names=['class_index', 'review_title', 'review_text'])\n",
    "df.index.name = 'review_id'"
   ]
  },
  {
   "cell_type": "code",
   "execution_count": 4,
   "id": "e0a18da6-5a30-44a7-9164-f3bf7e9413f9",
   "metadata": {},
   "outputs": [
    {
     "data": {
      "text/plain": [
       "(3600000, 3)"
      ]
     },
     "execution_count": 4,
     "metadata": {},
     "output_type": "execute_result"
    }
   ],
   "source": [
    "df.shape"
   ]
  },
  {
   "cell_type": "code",
   "execution_count": 5,
   "id": "1e331c7f-dc78-488a-b259-753b29e2ce9a",
   "metadata": {},
   "outputs": [
    {
     "data": {
      "text/html": [
       "<div>\n",
       "<style scoped>\n",
       "    .dataframe tbody tr th:only-of-type {\n",
       "        vertical-align: middle;\n",
       "    }\n",
       "\n",
       "    .dataframe tbody tr th {\n",
       "        vertical-align: top;\n",
       "    }\n",
       "\n",
       "    .dataframe thead th {\n",
       "        text-align: right;\n",
       "    }\n",
       "</style>\n",
       "<table border=\"1\" class=\"dataframe\">\n",
       "  <thead>\n",
       "    <tr style=\"text-align: right;\">\n",
       "      <th></th>\n",
       "      <th>class_index</th>\n",
       "      <th>review_title</th>\n",
       "      <th>review_text</th>\n",
       "    </tr>\n",
       "    <tr>\n",
       "      <th>review_id</th>\n",
       "      <th></th>\n",
       "      <th></th>\n",
       "      <th></th>\n",
       "    </tr>\n",
       "  </thead>\n",
       "  <tbody>\n",
       "    <tr>\n",
       "      <th>0</th>\n",
       "      <td>2</td>\n",
       "      <td>Stuning even for the non-gamer</td>\n",
       "      <td>This sound track was beautiful! It paints the ...</td>\n",
       "    </tr>\n",
       "    <tr>\n",
       "      <th>1</th>\n",
       "      <td>2</td>\n",
       "      <td>The best soundtrack ever to anything.</td>\n",
       "      <td>I'm reading a lot of reviews saying that this ...</td>\n",
       "    </tr>\n",
       "    <tr>\n",
       "      <th>2</th>\n",
       "      <td>2</td>\n",
       "      <td>Amazing!</td>\n",
       "      <td>This soundtrack is my favorite music of all ti...</td>\n",
       "    </tr>\n",
       "    <tr>\n",
       "      <th>3</th>\n",
       "      <td>2</td>\n",
       "      <td>Excellent Soundtrack</td>\n",
       "      <td>I truly like this soundtrack and I enjoy video...</td>\n",
       "    </tr>\n",
       "    <tr>\n",
       "      <th>4</th>\n",
       "      <td>2</td>\n",
       "      <td>Remember, Pull Your Jaw Off The Floor After He...</td>\n",
       "      <td>If you've played the game, you know how divine...</td>\n",
       "    </tr>\n",
       "  </tbody>\n",
       "</table>\n",
       "</div>"
      ],
      "text/plain": [
       "           class_index                                       review_title  \\\n",
       "review_id                                                                   \n",
       "0                    2                     Stuning even for the non-gamer   \n",
       "1                    2              The best soundtrack ever to anything.   \n",
       "2                    2                                           Amazing!   \n",
       "3                    2                               Excellent Soundtrack   \n",
       "4                    2  Remember, Pull Your Jaw Off The Floor After He...   \n",
       "\n",
       "                                                 review_text  \n",
       "review_id                                                     \n",
       "0          This sound track was beautiful! It paints the ...  \n",
       "1          I'm reading a lot of reviews saying that this ...  \n",
       "2          This soundtrack is my favorite music of all ti...  \n",
       "3          I truly like this soundtrack and I enjoy video...  \n",
       "4          If you've played the game, you know how divine...  "
      ]
     },
     "execution_count": 5,
     "metadata": {},
     "output_type": "execute_result"
    }
   ],
   "source": [
    "df2 = df.head(100000)\n",
    "df = df.head(100000)\n",
    "df.head()"
   ]
  },
  {
   "cell_type": "markdown",
   "id": "955dc44e-579a-45d9-899f-e9e2f997d175",
   "metadata": {},
   "source": [
    "# Try Baseline Model before clean the data"
   ]
  },
  {
   "cell_type": "code",
   "execution_count": 6,
   "id": "fea43af3-8ba4-4611-856a-de03ed41e88d",
   "metadata": {},
   "outputs": [
    {
     "name": "stdout",
     "output_type": "stream",
     "text": [
      "Accuracy: 0.8589666666666667\n",
      "Classification Report:\n",
      "              precision    recall  f1-score   support\n",
      "\n",
      "           1       0.86      0.85      0.85     14468\n",
      "           2       0.86      0.87      0.86     15532\n",
      "\n",
      "    accuracy                           0.86     30000\n",
      "   macro avg       0.86      0.86      0.86     30000\n",
      "weighted avg       0.86      0.86      0.86     30000\n",
      "\n"
     ]
    }
   ],
   "source": [
    "x = df['review_text']\n",
    "y = df['class_index']\n",
    "\n",
    "train_and_evaluate_model(x, y)"
   ]
  },
  {
   "cell_type": "code",
   "execution_count": 7,
   "id": "3179c2ff",
   "metadata": {},
   "outputs": [
    {
     "name": "stdout",
     "output_type": "stream",
     "text": [
      "class_index\n",
      "2    51267\n",
      "1    48733\n",
      "Name: count, dtype: int64\n"
     ]
    },
    {
     "data": {
      "image/png": "[encoded data removed]",
      "text/plain": [
       "<Figure size 1000x400 with 1 Axes>"
      ]
     },
     "metadata": {},
     "output_type": "display_data"
    }
   ],
   "source": [
    "plt.figure(figsize=(10, 4))\n",
    "\n",
    "train_class_index_counts = df['class_index'].value_counts()\n",
    "print(train_class_index_counts)\n",
    "plt.subplot(1, 2, 1)\n",
    "train_class_index_counts.plot(kind='bar', color='skyblue')\n",
    "plt.title('Number of class index in train ')\n",
    "plt.xlabel('class_index')\n",
    "plt.ylabel('Number of samples')\n",
    "plt.xticks(rotation=0)\n",
    "\n",
    "\n",
    "plt.show()"
   ]
  },
  {
   "cell_type": "markdown",
   "id": "50752ff7",
   "metadata": {},
   "source": [
    "# Detect Missing Values"
   ]
  },
  {
   "cell_type": "code",
   "execution_count": 8,
   "id": "ded1c302-e0ca-46ba-860b-893b502062d1",
   "metadata": {},
   "outputs": [
    {
     "name": "stdout",
     "output_type": "stream",
     "text": [
      "<class 'pandas.core.frame.DataFrame'>\n",
      "Index: 5 entries, 13265 to 37347\n",
      "Data columns (total 3 columns):\n",
      " #   Column        Non-Null Count  Dtype \n",
      "---  ------        --------------  ----- \n",
      " 0   class_index   5 non-null      int64 \n",
      " 1   review_title  0 non-null      object\n",
      " 2   review_text   5 non-null      object\n",
      "dtypes: int64(1), object(2)\n",
      "memory usage: 160.0+ bytes\n"
     ]
    }
   ],
   "source": [
    "df[df.isnull().any(axis=1)].info()"
   ]
  },
  {
   "cell_type": "markdown",
   "id": "af94836c",
   "metadata": {},
   "source": [
    "### filling the missing values"
   ]
  },
  {
   "cell_type": "code",
   "execution_count": 9,
   "id": "ef8be4ed-b4d0-4f92-b7ad-3f33d2ab8923",
   "metadata": {},
   "outputs": [],
   "source": [
    "#df = df.dropna(how=\"any\")\n",
    "df['review_title'] = df['review_title'].fillna('No Title')"
   ]
  },
  {
   "cell_type": "code",
   "execution_count": 10,
   "id": "5fca9e99",
   "metadata": {},
   "outputs": [
    {
     "name": "stdout",
     "output_type": "stream",
     "text": [
      "<class 'pandas.core.frame.DataFrame'>\n",
      "Index: 0 entries\n",
      "Data columns (total 3 columns):\n",
      " #   Column        Non-Null Count  Dtype \n",
      "---  ------        --------------  ----- \n",
      " 0   class_index   0 non-null      int64 \n",
      " 1   review_title  0 non-null      object\n",
      " 2   review_text   0 non-null      object\n",
      "dtypes: int64(1), object(2)\n",
      "memory usage: 0.0+ bytes\n"
     ]
    }
   ],
   "source": [
    "df[df.isnull().any(axis=1)].info()"
   ]
  },
  {
   "cell_type": "code",
   "execution_count": 11,
   "id": "c2e6a9f3-0e86-470c-ae8e-0be9f8304fc6",
   "metadata": {},
   "outputs": [
    {
     "data": {
      "text/html": [
       "<div>\n",
       "<style scoped>\n",
       "    .dataframe tbody tr th:only-of-type {\n",
       "        vertical-align: middle;\n",
       "    }\n",
       "\n",
       "    .dataframe tbody tr th {\n",
       "        vertical-align: top;\n",
       "    }\n",
       "\n",
       "    .dataframe thead th {\n",
       "        text-align: right;\n",
       "    }\n",
       "</style>\n",
       "<table border=\"1\" class=\"dataframe\">\n",
       "  <thead>\n",
       "    <tr style=\"text-align: right;\">\n",
       "      <th></th>\n",
       "      <th>class_index</th>\n",
       "      <th>review_title</th>\n",
       "      <th>review_text</th>\n",
       "    </tr>\n",
       "    <tr>\n",
       "      <th>review_id</th>\n",
       "      <th></th>\n",
       "      <th></th>\n",
       "      <th></th>\n",
       "    </tr>\n",
       "  </thead>\n",
       "  <tbody>\n",
       "  </tbody>\n",
       "</table>\n",
       "</div>"
      ],
      "text/plain": [
       "Empty DataFrame\n",
       "Columns: [class_index, review_title, review_text]\n",
       "Index: []"
      ]
     },
     "execution_count": 11,
     "metadata": {},
     "output_type": "execute_result"
    }
   ],
   "source": [
    "df[df.duplicated()]"
   ]
  },
  {
   "cell_type": "markdown",
   "id": "4ce768d3",
   "metadata": {},
   "source": [
    "# Text Cleaning"
   ]
  },
  {
   "cell_type": "markdown",
   "id": "a26cd1a3",
   "metadata": {},
   "source": [
    "### Convert Text To Lowercase"
   ]
  },
  {
   "cell_type": "code",
   "execution_count": 12,
   "id": "dd29bec8",
   "metadata": {},
   "outputs": [
    {
     "data": {
      "text/plain": [
       "class_index     87891\n",
       "review_title    87891\n",
       "review_text     87891\n",
       "dtype: int64"
      ]
     },
     "execution_count": 12,
     "metadata": {},
     "output_type": "execute_result"
    }
   ],
   "source": [
    "df[df['review_title'].str.contains(r'[A-Z]', na=False)].count()"
   ]
  },
  {
   "cell_type": "code",
   "execution_count": 13,
   "id": "9566d75d",
   "metadata": {},
   "outputs": [],
   "source": [
    "# Filter rows where 'review_title' contains uppercase letters\n",
    "uppercase_rows = df[df['review_title'].str.contains(r'[A-Z]', na=False)]\n",
    "\n",
    "# Convert 'review_title' in those rows to lowercase\n",
    "df.loc[uppercase_rows.index, 'review_title'] = df.loc[uppercase_rows.index, 'review_title'].str.lower()\n",
    "\n"
   ]
  },
  {
   "cell_type": "code",
   "execution_count": 14,
   "id": "dad6df4a",
   "metadata": {},
   "outputs": [
    {
     "data": {
      "text/plain": [
       "class_index     0\n",
       "review_title    0\n",
       "review_text     0\n",
       "dtype: int64"
      ]
     },
     "execution_count": 14,
     "metadata": {},
     "output_type": "execute_result"
    }
   ],
   "source": [
    "df[df['review_title'].str.contains(r'[A-Z]', na=False)].count()"
   ]
  },
  {
   "cell_type": "code",
   "execution_count": 15,
   "id": "b2121491",
   "metadata": {},
   "outputs": [
    {
     "data": {
      "text/plain": [
       "class_index     97543\n",
       "review_title    97543\n",
       "review_text     97543\n",
       "dtype: int64"
      ]
     },
     "execution_count": 15,
     "metadata": {},
     "output_type": "execute_result"
    }
   ],
   "source": [
    "df[df[\"review_text\"].str.contains(r'[A-Z]', na=False)].count()"
   ]
  },
  {
   "cell_type": "code",
   "execution_count": 16,
   "id": "d1b8afb4",
   "metadata": {},
   "outputs": [],
   "source": [
    "# Filter rows where 'review_text' contains uppercase letters\n",
    "uppercase_rows = df[df['review_text'].str.contains(r'[A-Z]', na=False)]\n",
    "\n",
    "# Convert 'review_title' in those rows to lowercase\n",
    "df.loc[uppercase_rows.index, 'review_text'] = df.loc[uppercase_rows.index, 'review_title'].str.lower()"
   ]
  },
  {
   "cell_type": "code",
   "execution_count": 17,
   "id": "463a16f5",
   "metadata": {},
   "outputs": [
    {
     "data": {
      "text/plain": [
       "class_index     0\n",
       "review_title    0\n",
       "review_text     0\n",
       "dtype: int64"
      ]
     },
     "execution_count": 17,
     "metadata": {},
     "output_type": "execute_result"
    }
   ],
   "source": [
    "df[df[\"review_text\"].str.contains(r'[A-Z]', na=False)].count()"
   ]
  },
  {
   "cell_type": "markdown",
   "id": "3f9d2b9d",
   "metadata": {},
   "source": [
    "### work in sample example"
   ]
  },
  {
   "cell_type": "markdown",
   "id": "e9f0e5f0",
   "metadata": {},
   "source": [
    "### detect stop words and remove theme"
   ]
  },
  {
   "cell_type": "markdown",
   "id": "86fa42da",
   "metadata": {},
   "source": [
    "# Train the model after cleaning"
   ]
  },
  {
   "cell_type": "code",
   "execution_count": 18,
   "id": "8876be39-b5b0-4d12-afd7-db7e6cc5519d",
   "metadata": {},
   "outputs": [
    {
     "name": "stdout",
     "output_type": "stream",
     "text": [
      "Accuracy: 0.7897333333333333\n",
      "Classification Report:\n",
      "              precision    recall  f1-score   support\n",
      "\n",
      "           1       0.78      0.78      0.78     14468\n",
      "           2       0.79      0.80      0.80     15532\n",
      "\n",
      "    accuracy                           0.79     30000\n",
      "   macro avg       0.79      0.79      0.79     30000\n",
      "weighted avg       0.79      0.79      0.79     30000\n",
      "\n"
     ]
    }
   ],
   "source": [
    "x = df['review_text']\n",
    "y = df['class_index']\n",
    "\n",
    "train_and_evaluate_model(x, y)"
   ]
  },
  {
   "cell_type": "code",
   "execution_count": 29,
   "id": "460bf0f0-70fe-412a-bc9c-15b3c27a4f0c",
   "metadata": {},
   "outputs": [],
   "source": [
    "sia = SentimentIntensityAnalyzer()\n",
    "\n",
    "def assign_real_class_index(text):\n",
    "    sentiment = sia.polarity_scores(text)\n",
    "    compound = sentiment['compound']\n",
    "    if compound >= 0.05:\n",
    "        return 2  # Positive sentiment\n",
    "    elif compound <= -0.05:\n",
    "        return 1  # Negative sentiment\n",
    "    else:\n",
    "        return 0  # Neutral sentiment\n"
   ]
  },
  {
   "cell_type": "code",
   "execution_count": 30,
   "id": "5059e9eb-0f6a-45f6-a998-bb5f22083248",
   "metadata": {},
   "outputs": [],
   "source": [
    "df['real_class_index'] = df['review_text'].apply(assign_real_class_index)\n"
   ]
  },
  {
   "cell_type": "code",
   "execution_count": 31,
   "id": "1770f911-a90a-46f3-8b34-6fc8006af92a",
   "metadata": {},
   "outputs": [
    {
     "data": {
      "text/plain": [
       "(50606, 4)"
      ]
     },
     "execution_count": 31,
     "metadata": {},
     "output_type": "execute_result"
    }
   ],
   "source": [
    "df[df[\"class_index\"] != df[\"real_class_index\"]].shape"
   ]
  },
  {
   "cell_type": "code",
   "execution_count": 32,
   "id": "2a68c552-b3fa-4920-92c0-8e3d0a287693",
   "metadata": {},
   "outputs": [
    {
     "name": "stdout",
     "output_type": "stream",
     "text": [
      "real_class_index\n",
      "0    39071\n",
      "2    38487\n",
      "1    22442\n",
      "Name: count, dtype: int64\n"
     ]
    },
    {
     "data": {
      "image/png": "[encoded data removed]",
      "text/plain": [
       "<Figure size 1000x400 with 1 Axes>"
      ]
     },
     "metadata": {},
     "output_type": "display_data"
    }
   ],
   "source": [
    "plt.figure(figsize=(10, 4))\n",
    "\n",
    "train_class_index_counts = df['real_class_index'].value_counts()\n",
    "print(train_class_index_counts)\n",
    "plt.subplot(1, 2, 1)\n",
    "train_class_index_counts.plot(kind='bar', color='skyblue')\n",
    "plt.title('Number of class index in train ')\n",
    "plt.xlabel('real_class_index')\n",
    "plt.ylabel('Number of samples')\n",
    "plt.xticks(rotation=0)\n",
    "\n",
    "\n",
    "plt.show()"
   ]
  },
  {
   "cell_type": "code",
   "execution_count": 33,
   "id": "f16552e6-fa81-4db3-be90-942e69555790",
   "metadata": {},
   "outputs": [
    {
     "name": "stdout",
     "output_type": "stream",
     "text": [
      "Accuracy: 0.8736666666666667\n",
      "Classification Report:\n",
      "              precision    recall  f1-score   support\n",
      "\n",
      "           0       0.86      0.95      0.90     11756\n",
      "           1       0.86      0.71      0.78      6686\n",
      "           2       0.90      0.89      0.89     11558\n",
      "\n",
      "    accuracy                           0.87     30000\n",
      "   macro avg       0.87      0.85      0.86     30000\n",
      "weighted avg       0.87      0.87      0.87     30000\n",
      "\n"
     ]
    },
    {
     "name": "stderr",
     "output_type": "stream",
     "text": [
      "C:\\Users\\DELL\\anaconda3\\Lib\\site-packages\\sklearn\\linear_model\\_logistic.py:469: ConvergenceWarning: lbfgs failed to converge (status=1):\n",
      "STOP: TOTAL NO. of ITERATIONS REACHED LIMIT.\n",
      "\n",
      "Increase the number of iterations (max_iter) or scale the data as shown in:\n",
      "    https://scikit-learn.org/stable/modules/preprocessing.html\n",
      "Please also refer to the documentation for alternative solver options:\n",
      "    https://scikit-learn.org/stable/modules/linear_model.html#logistic-regression\n",
      "  n_iter_i = _check_optimize_result(\n"
     ]
    }
   ],
   "source": [
    "x = df['review_text']\n",
    "y = df['real_class_index']\n",
    "\n",
    "train_and_evaluate_model(x, y)"
   ]
  },
  {
   "cell_type": "code",
   "execution_count": null,
   "id": "34c07a5e-0d10-4cd0-b2fb-fb01fbeabc77",
   "metadata": {},
   "outputs": [],
   "source": []
  }
 ],
 "metadata": {
  "kernelspec": {
   "display_name": "Python 3 (ipykernel)",
   "language": "python",
   "name": "python3"
  },
  "language_info": {
   "codemirror_mode": {
    "name": "ipython",
    "version": 3
   },
   "file_extension": ".py",
   "mimetype": "text/x-python",
   "name": "python",
   "nbconvert_exporter": "python",
   "pygments_lexer": "ipython3",
   "version": "3.12.4"
  }
 },
 "nbformat": 4,
 "nbformat_minor": 5
}
