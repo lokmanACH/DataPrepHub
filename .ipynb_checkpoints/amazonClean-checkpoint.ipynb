{
 "cells": [
  {
   "cell_type": "markdown",
   "id": "f99813ff-4f1f-4cbe-b3bc-2da01a7d6624",
   "metadata": {},
   "source": [
    "# Import packages"
   ]
  },
  {
   "cell_type": "code",
   "execution_count": 2,
   "id": "564b6295-c3cb-4c1c-b6e0-12fa19a344f9",
   "metadata": {},
   "outputs": [],
   "source": [
    "import pandas as pd"
   ]
  },
  {
   "cell_type": "markdown",
   "id": "a801827c-3218-47a0-850e-077898967f68",
   "metadata": {},
   "source": [
    "# Read the dataset"
   ]
  },
  {
   "cell_type": "code",
   "execution_count": 16,
   "id": "527ab9eb-f69b-40ca-b2a6-c1fa676d5a68",
   "metadata": {},
   "outputs": [
    {
     "data": {
      "text/html": [
       "<div>\n",
       "<style scoped>\n",
       "    .dataframe tbody tr th:only-of-type {\n",
       "        vertical-align: middle;\n",
       "    }\n",
       "\n",
       "    .dataframe tbody tr th {\n",
       "        vertical-align: top;\n",
       "    }\n",
       "\n",
       "    .dataframe thead th {\n",
       "        text-align: right;\n",
       "    }\n",
       "</style>\n",
       "<table border=\"1\" class=\"dataframe\">\n",
       "  <thead>\n",
       "    <tr style=\"text-align: right;\">\n",
       "      <th></th>\n",
       "      <th>class_index</th>\n",
       "      <th>review_title</th>\n",
       "      <th>review_text</th>\n",
       "    </tr>\n",
       "    <tr>\n",
       "      <th>review_id</th>\n",
       "      <th></th>\n",
       "      <th></th>\n",
       "      <th></th>\n",
       "    </tr>\n",
       "  </thead>\n",
       "  <tbody>\n",
       "    <tr>\n",
       "      <th>82661</th>\n",
       "      <td>1</td>\n",
       "      <td>piece of junk</td>\n",
       "      <td>Bought this blender because it rated high on C...</td>\n",
       "    </tr>\n",
       "    <tr>\n",
       "      <th>388084</th>\n",
       "      <td>2</td>\n",
       "      <td>Beautiful Earrings</td>\n",
       "      <td>I bought these earrings for my 2 year old daug...</td>\n",
       "    </tr>\n",
       "    <tr>\n",
       "      <th>290711</th>\n",
       "      <td>2</td>\n",
       "      <td>Just like Starbucks aroma and body</td>\n",
       "      <td>This thing is GREAT! After having ground my ow...</td>\n",
       "    </tr>\n",
       "    <tr>\n",
       "      <th>66954</th>\n",
       "      <td>1</td>\n",
       "      <td>Don't buy for your Kindle!</td>\n",
       "      <td>No reflection on the author, editors, and such...</td>\n",
       "    </tr>\n",
       "    <tr>\n",
       "      <th>10973</th>\n",
       "      <td>2</td>\n",
       "      <td>Gives great ideas for how to keep a class effi...</td>\n",
       "      <td>This book is one of the most informative books...</td>\n",
       "    </tr>\n",
       "    <tr>\n",
       "      <th>148201</th>\n",
       "      <td>1</td>\n",
       "      <td>Way too expensive for what you get!</td>\n",
       "      <td>When I saw the price of this item, I mistakenl...</td>\n",
       "    </tr>\n",
       "    <tr>\n",
       "      <th>40476</th>\n",
       "      <td>1</td>\n",
       "      <td>Good Performance but too Cheaply Built</td>\n",
       "      <td>When it's new and before the plastic parts sta...</td>\n",
       "    </tr>\n",
       "  </tbody>\n",
       "</table>\n",
       "</div>"
      ],
      "text/plain": [
       "           class_index                                       review_title  \\\n",
       "review_id                                                                   \n",
       "82661                1                                      piece of junk   \n",
       "388084               2                                 Beautiful Earrings   \n",
       "290711               2                 Just like Starbucks aroma and body   \n",
       "66954                1                         Don't buy for your Kindle!   \n",
       "10973                2  Gives great ideas for how to keep a class effi...   \n",
       "148201               1                Way too expensive for what you get!   \n",
       "40476                1             Good Performance but too Cheaply Built   \n",
       "\n",
       "                                                 review_text  \n",
       "review_id                                                     \n",
       "82661      Bought this blender because it rated high on C...  \n",
       "388084     I bought these earrings for my 2 year old daug...  \n",
       "290711     This thing is GREAT! After having ground my ow...  \n",
       "66954      No reflection on the author, editors, and such...  \n",
       "10973      This book is one of the most informative books...  \n",
       "148201     When I saw the price of this item, I mistakenl...  \n",
       "40476      When it's new and before the plastic parts sta...  "
      ]
     },
     "execution_count": 16,
     "metadata": {},
     "output_type": "execute_result"
    }
   ],
   "source": [
    "df = pd.read_csv(\"dataset/test.csv\", header=None, names=['class_index', 'review_title', 'review_text'])\n",
    "df.index.name = 'review_id'\n",
    "df.sample(7)"
   ]
  },
  {
   "cell_type": "code",
   "execution_count": null,
   "id": "e0a18da6-5a30-44a7-9164-f3bf7e9413f9",
   "metadata": {},
   "outputs": [],
   "source": []
  }
 ],
 "metadata": {
  "kernelspec": {
   "display_name": "Python 3 (ipykernel)",
   "language": "python",
   "name": "python3"
  },
  "language_info": {
   "codemirror_mode": {
    "name": "ipython",
    "version": 3
   },
   "file_extension": ".py",
   "mimetype": "text/x-python",
   "name": "python",
   "nbconvert_exporter": "python",
   "pygments_lexer": "ipython3",
   "version": "3.12.4"
  }
 },
 "nbformat": 4,
 "nbformat_minor": 5
}
