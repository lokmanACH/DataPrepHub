{
 "cells": [
  {
   "cell_type": "markdown",
   "id": "158691b0",
   "metadata": {},
   "source": []
  },
  {
   "cell_type": "markdown",
   "id": "f99813ff-4f1f-4cbe-b3bc-2da01a7d6624",
   "metadata": {},
   "source": [
    "# Import packages"
   ]
  },
  {
   "cell_type": "code",
   "execution_count": 160,
   "id": "564b6295-c3cb-4c1c-b6e0-12fa19a344f9",
   "metadata": {},
   "outputs": [],
   "source": [
    "import pandas as pd \n",
    "import seaborn as sns\n",
    "import matplotlib.pyplot as plt\n",
    "import re\n",
    "\n",
    "from sklearn.model_selection import train_test_split\n",
    "from sklearn.feature_extraction.text import TfidfVectorizer\n",
    "from sklearn.linear_model import LogisticRegression\n",
    "from sklearn.metrics import classification_report, accuracy_score"
   ]
  },
  {
   "cell_type": "markdown",
   "id": "a801827c-3218-47a0-850e-077898967f68",
   "metadata": {},
   "source": [
    "# Read the dataset"
   ]
  },
  {
   "cell_type": "code",
   "execution_count": 161,
   "id": "527ab9eb-f69b-40ca-b2a6-c1fa676d5a68",
   "metadata": {},
   "outputs": [],
   "source": [
    "df = pd.read_csv(\"dataset/train.csv\", header=None, names=['class_index', 'review_title', 'review_text'])\n",
    "df.index.name = 'review_id'"
   ]
  },
  {
   "cell_type": "code",
   "execution_count": 162,
   "id": "e0a18da6-5a30-44a7-9164-f3bf7e9413f9",
   "metadata": {},
   "outputs": [
    {
     "data": {
      "text/plain": [
       "(3600000, 3)"
      ]
     },
     "execution_count": 162,
     "metadata": {},
     "output_type": "execute_result"
    }
   ],
   "source": [
    "df.shape"
   ]
  },
  {
   "cell_type": "code",
   "execution_count": 163,
   "id": "1e331c7f-dc78-488a-b259-753b29e2ce9a",
   "metadata": {},
   "outputs": [
    {
     "data": {
      "text/html": [
       "<div>\n",
       "<style scoped>\n",
       "    .dataframe tbody tr th:only-of-type {\n",
       "        vertical-align: middle;\n",
       "    }\n",
       "\n",
       "    .dataframe tbody tr th {\n",
       "        vertical-align: top;\n",
       "    }\n",
       "\n",
       "    .dataframe thead th {\n",
       "        text-align: right;\n",
       "    }\n",
       "</style>\n",
       "<table border=\"1\" class=\"dataframe\">\n",
       "  <thead>\n",
       "    <tr style=\"text-align: right;\">\n",
       "      <th></th>\n",
       "      <th>class_index</th>\n",
       "      <th>review_title</th>\n",
       "      <th>review_text</th>\n",
       "    </tr>\n",
       "    <tr>\n",
       "      <th>review_id</th>\n",
       "      <th></th>\n",
       "      <th></th>\n",
       "      <th></th>\n",
       "    </tr>\n",
       "  </thead>\n",
       "  <tbody>\n",
       "    <tr>\n",
       "      <th>0</th>\n",
       "      <td>2</td>\n",
       "      <td>Stuning even for the non-gamer</td>\n",
       "      <td>This sound track was beautiful! It paints the ...</td>\n",
       "    </tr>\n",
       "    <tr>\n",
       "      <th>1</th>\n",
       "      <td>2</td>\n",
       "      <td>The best soundtrack ever to anything.</td>\n",
       "      <td>I'm reading a lot of reviews saying that this ...</td>\n",
       "    </tr>\n",
       "    <tr>\n",
       "      <th>2</th>\n",
       "      <td>2</td>\n",
       "      <td>Amazing!</td>\n",
       "      <td>This soundtrack is my favorite music of all ti...</td>\n",
       "    </tr>\n",
       "    <tr>\n",
       "      <th>3</th>\n",
       "      <td>2</td>\n",
       "      <td>Excellent Soundtrack</td>\n",
       "      <td>I truly like this soundtrack and I enjoy video...</td>\n",
       "    </tr>\n",
       "    <tr>\n",
       "      <th>4</th>\n",
       "      <td>2</td>\n",
       "      <td>Remember, Pull Your Jaw Off The Floor After He...</td>\n",
       "      <td>If you've played the game, you know how divine...</td>\n",
       "    </tr>\n",
       "  </tbody>\n",
       "</table>\n",
       "</div>"
      ],
      "text/plain": [
       "           class_index                                       review_title  \\\n",
       "review_id                                                                   \n",
       "0                    2                     Stuning even for the non-gamer   \n",
       "1                    2              The best soundtrack ever to anything.   \n",
       "2                    2                                           Amazing!   \n",
       "3                    2                               Excellent Soundtrack   \n",
       "4                    2  Remember, Pull Your Jaw Off The Floor After He...   \n",
       "\n",
       "                                                 review_text  \n",
       "review_id                                                     \n",
       "0          This sound track was beautiful! It paints the ...  \n",
       "1          I'm reading a lot of reviews saying that this ...  \n",
       "2          This soundtrack is my favorite music of all ti...  \n",
       "3          I truly like this soundtrack and I enjoy video...  \n",
       "4          If you've played the game, you know how divine...  "
      ]
     },
     "execution_count": 163,
     "metadata": {},
     "output_type": "execute_result"
    }
   ],
   "source": [
    "dfOrigine = df.head(100000)\n",
    "df = df.head(100000)\n",
    "df.head()"
   ]
  },
  {
   "cell_type": "markdown",
   "id": "955dc44e-579a-45d9-899f-e9e2f997d175",
   "metadata": {},
   "source": [
    "# Try Baseline Model before clean the data"
   ]
  },
  {
   "cell_type": "code",
   "execution_count": 164,
   "id": "fea43af3-8ba4-4611-856a-de03ed41e88d",
   "metadata": {},
   "outputs": [
    {
     "name": "stdout",
     "output_type": "stream",
     "text": [
      "Accuracy: 0.8589666666666667\n",
      "Classification Report:\n",
      "              precision    recall  f1-score   support\n",
      "\n",
      "           1       0.86      0.85      0.85     14468\n",
      "           2       0.86      0.87      0.86     15532\n",
      "\n",
      "    accuracy                           0.86     30000\n",
      "   macro avg       0.86      0.86      0.86     30000\n",
      "weighted avg       0.86      0.86      0.86     30000\n",
      "\n"
     ]
    }
   ],
   "source": [
    "X = df['review_text']\n",
    "y = df['class_index']\n",
    "\n",
    "X_train, X_test, y_train, y_test = train_test_split(X, y, test_size=0.3, random_state=42)\n",
    "\n",
    "# Convert text data into TF-IDF features\n",
    "vectorizer = TfidfVectorizer(stop_words='english')\n",
    "X_train_tfidf = vectorizer.fit_transform(X_train)\n",
    "X_test_tfidf = vectorizer.transform(X_test)\n",
    "\n",
    "# Train a Logistic Regression model\n",
    "model = LogisticRegression()\n",
    "model.fit(X_train_tfidf, y_train)\n",
    "\n",
    "# Make predictions\n",
    "y_pred = model.predict(X_test_tfidf)\n",
    "\n",
    "# Evaluate the model\n",
    "print(\"Accuracy:\", accuracy_score(y_test, y_pred))\n",
    "print(\"Classification Report:\")\n",
    "print(classification_report(y_test, y_pred))"
   ]
  },
  {
   "cell_type": "code",
   "execution_count": 165,
   "id": "3179c2ff",
   "metadata": {},
   "outputs": [
    {
     "name": "stdout",
     "output_type": "stream",
     "text": [
      "class_index\n",
      "2    51267\n",
      "1    48733\n",
      "Name: count, dtype: int64\n"
     ]
    },
    {
     "data": {
      "image/png": "[encoded data removed]",
      "text/plain": [
       "<Figure size 1000x400 with 1 Axes>"
      ]
     },
     "metadata": {},
     "output_type": "display_data"
    }
   ],
   "source": [
    "plt.figure(figsize=(10, 4))\n",
    "\n",
    "train_class_index_counts = df['class_index'].value_counts()\n",
    "print(train_class_index_counts)\n",
    "plt.subplot(1, 2, 1)\n",
    "train_class_index_counts.plot(kind='bar', color='skyblue')\n",
    "plt.title('Number of class index in train ')\n",
    "plt.xlabel('class_index')\n",
    "plt.ylabel('Number of samples')\n",
    "plt.xticks(rotation=0)\n",
    "\n",
    "\n",
    "plt.show()"
   ]
  },
  {
   "cell_type": "markdown",
   "id": "50752ff7",
   "metadata": {},
   "source": [
    "# Detect Missing Values"
   ]
  },
  {
   "cell_type": "code",
   "execution_count": 166,
   "id": "ded1c302-e0ca-46ba-860b-893b502062d1",
   "metadata": {},
   "outputs": [
    {
     "data": {
      "text/plain": [
       "<bound method DataFrame.info of            class_index review_title  \\\n",
       "review_id                             \n",
       "13265                1          NaN   \n",
       "26554                1          NaN   \n",
       "26827                2          NaN   \n",
       "36598                2          NaN   \n",
       "37347                2          NaN   \n",
       "\n",
       "                                                 review_text  \n",
       "review_id                                                     \n",
       "13265      Couldn't get the device to work with my networ...  \n",
       "26554      What separates this band from Evanescence (bes...  \n",
       "26827      Falkenbach returns with more of the Viking/Fol...  \n",
       "36598      I returned this because I received the same on...  \n",
       "37347      This book is a great fantasy. I love this amaz...  >"
      ]
     },
     "execution_count": 166,
     "metadata": {},
     "output_type": "execute_result"
    }
   ],
   "source": [
    "df[df.isnull().any(axis=1)].info"
   ]
  },
  {
   "cell_type": "markdown",
   "id": "af94836c",
   "metadata": {},
   "source": [
    "### drop the missing values"
   ]
  },
  {
   "cell_type": "code",
   "execution_count": 167,
   "id": "ef8be4ed-b4d0-4f92-b7ad-3f33d2ab8923",
   "metadata": {},
   "outputs": [],
   "source": [
    "#df = df.dropna(how=\"any\")\n",
    "df['review_title'] = df['review_title'].fillna('')"
   ]
  },
  {
   "cell_type": "code",
   "execution_count": 168,
   "id": "5fca9e99",
   "metadata": {},
   "outputs": [
    {
     "name": "stdout",
     "output_type": "stream",
     "text": [
      "<class 'pandas.core.frame.DataFrame'>\n",
      "Index: 0 entries\n",
      "Data columns (total 3 columns):\n",
      " #   Column        Non-Null Count  Dtype \n",
      "---  ------        --------------  ----- \n",
      " 0   class_index   0 non-null      int64 \n",
      " 1   review_title  0 non-null      object\n",
      " 2   review_text   0 non-null      object\n",
      "dtypes: int64(1), object(2)\n",
      "memory usage: 0.0+ bytes\n"
     ]
    }
   ],
   "source": [
    "df[df.isnull().any(axis=1)].info()"
   ]
  },
  {
   "cell_type": "code",
   "execution_count": 169,
   "id": "ecb7d627-6672-4b64-94a9-1ddbaf74410d",
   "metadata": {},
   "outputs": [
    {
     "data": {
      "text/plain": [
       "<bound method DataFrame.info of            class_index                                       review_title  \\\n",
       "review_id                                                                   \n",
       "0                    2                     Stuning even for the non-gamer   \n",
       "1                    2              The best soundtrack ever to anything.   \n",
       "2                    2                                           Amazing!   \n",
       "3                    2                               Excellent Soundtrack   \n",
       "4                    2  Remember, Pull Your Jaw Off The Floor After He...   \n",
       "...                ...                                                ...   \n",
       "99995                2                                               Good   \n",
       "99996                1                                  THE REAL SUPERMAN   \n",
       "99997                1  It gets one star because zero was not an optio...   \n",
       "99998                1                             Don't Spend Your Money   \n",
       "99999                1                                     Enough already   \n",
       "\n",
       "                                                 review_text  \n",
       "review_id                                                     \n",
       "0          This sound track was beautiful! It paints the ...  \n",
       "1          I'm reading a lot of reviews saying that this ...  \n",
       "2          This soundtrack is my favorite music of all ti...  \n",
       "3          I truly like this soundtrack and I enjoy video...  \n",
       "4          If you've played the game, you know how divine...  \n",
       "...                                                      ...  \n",
       "99995      very good excelent fantastic wonderful muy bue...  \n",
       "99996      THESE ARE THE REAL ADVENTURES OF THE REAL SUPE...  \n",
       "99997      Sylvain Beauregard is WIDELY known to die-hard...  \n",
       "99998      I think I now know more about the person who w...  \n",
       "99999      This is what you call \"overkill.\" How many boo...  \n",
       "\n",
       "[100000 rows x 3 columns]>"
      ]
     },
     "execution_count": 169,
     "metadata": {},
     "output_type": "execute_result"
    }
   ],
   "source": [
    "df.info"
   ]
  },
  {
   "cell_type": "code",
   "execution_count": 170,
   "id": "c2e6a9f3-0e86-470c-ae8e-0be9f8304fc6",
   "metadata": {},
   "outputs": [
    {
     "data": {
      "text/plain": [
       "100000"
      ]
     },
     "execution_count": 170,
     "metadata": {},
     "output_type": "execute_result"
    }
   ],
   "source": [
    "df.duplicated().count()"
   ]
  },
  {
   "cell_type": "markdown",
   "id": "4ce768d3",
   "metadata": {},
   "source": [
    "# Text Cleaning"
   ]
  },
  {
   "cell_type": "markdown",
   "id": "a26cd1a3",
   "metadata": {},
   "source": [
    "### Convert Text To Lowercase"
   ]
  },
  {
   "cell_type": "code",
   "execution_count": 171,
   "id": "dd29bec8",
   "metadata": {},
   "outputs": [
    {
     "data": {
      "text/plain": [
       "class_index     87886\n",
       "review_title    87886\n",
       "review_text     87886\n",
       "dtype: int64"
      ]
     },
     "execution_count": 171,
     "metadata": {},
     "output_type": "execute_result"
    }
   ],
   "source": [
    "df[df['review_title'].str.contains(r'[A-Z]', na=False)].count()"
   ]
  },
  {
   "cell_type": "code",
   "execution_count": 172,
   "id": "9566d75d",
   "metadata": {},
   "outputs": [],
   "source": [
    "# Filter rows where 'review_title' contains uppercase letters\n",
    "uppercase_rows = df[df['review_title'].str.contains(r'[A-Z]', na=False)]\n",
    "\n",
    "# Convert 'review_title' in those rows to lowercase\n",
    "df.loc[uppercase_rows.index, 'review_title'] = df.loc[uppercase_rows.index, 'review_title'].str.lower()\n",
    "\n"
   ]
  },
  {
   "cell_type": "code",
   "execution_count": 173,
   "id": "dad6df4a",
   "metadata": {},
   "outputs": [
    {
     "data": {
      "text/plain": [
       "class_index     0\n",
       "review_title    0\n",
       "review_text     0\n",
       "dtype: int64"
      ]
     },
     "execution_count": 173,
     "metadata": {},
     "output_type": "execute_result"
    }
   ],
   "source": [
    "df[df['review_title'].str.contains(r'[A-Z]', na=False)].count()"
   ]
  },
  {
   "cell_type": "code",
   "execution_count": 174,
   "id": "b2121491",
   "metadata": {},
   "outputs": [
    {
     "data": {
      "text/plain": [
       "class_index     97543\n",
       "review_title    97543\n",
       "review_text     97543\n",
       "dtype: int64"
      ]
     },
     "execution_count": 174,
     "metadata": {},
     "output_type": "execute_result"
    }
   ],
   "source": [
    "df[df[\"review_text\"].str.contains(r'[A-Z]', na=False)].count()"
   ]
  },
  {
   "cell_type": "code",
   "execution_count": 175,
   "id": "d1b8afb4",
   "metadata": {},
   "outputs": [],
   "source": [
    "# Filter rows where 'review_text' contains uppercase letters\n",
    "uppercase_rows = df[df['review_text'].str.contains(r'[A-Z]', na=False)]\n",
    "\n",
    "# Convert 'review_title' in those rows to lowercase\n",
    "df.loc[uppercase_rows.index, 'review_text'] = df.loc[uppercase_rows.index, 'review_title'].str.lower()"
   ]
  },
  {
   "cell_type": "code",
   "execution_count": 176,
   "id": "463a16f5",
   "metadata": {},
   "outputs": [
    {
     "data": {
      "text/plain": [
       "class_index     0\n",
       "review_title    0\n",
       "review_text     0\n",
       "dtype: int64"
      ]
     },
     "execution_count": 176,
     "metadata": {},
     "output_type": "execute_result"
    }
   ],
   "source": [
    "df[df[\"review_text\"].str.contains(r'[A-Z]', na=False)].count()"
   ]
  },
  {
   "cell_type": "code",
   "execution_count": 177,
   "id": "5d825123",
   "metadata": {},
   "outputs": [
    {
     "name": "stdout",
     "output_type": "stream",
     "text": [
      "<class 'pandas.core.frame.DataFrame'>\n",
      "RangeIndex: 100000 entries, 0 to 99999\n",
      "Data columns (total 3 columns):\n",
      " #   Column        Non-Null Count   Dtype \n",
      "---  ------        --------------   ----- \n",
      " 0   class_index   100000 non-null  int64 \n",
      " 1   review_title  100000 non-null  object\n",
      " 2   review_text   100000 non-null  object\n",
      "dtypes: int64(1), object(2)\n",
      "memory usage: 2.3+ MB\n"
     ]
    }
   ],
   "source": [
    "df.info()"
   ]
  },
  {
   "cell_type": "markdown",
   "id": "d90b0baa",
   "metadata": {},
   "source": [
    "## Get Tokens"
   ]
  },
  {
   "cell_type": "code",
   "execution_count": 178,
   "id": "11d15de7",
   "metadata": {},
   "outputs": [
    {
     "name": "stderr",
     "output_type": "stream",
     "text": [
      "[nltk_data] Downloading package punkt to\n",
      "[nltk_data]     C:\\Users\\DELL\\AppData\\Roaming\\nltk_data...\n",
      "[nltk_data]   Package punkt is already up-to-date!\n",
      "[nltk_data] Downloading package stopwords to\n",
      "[nltk_data]     C:\\Users\\DELL\\AppData\\Roaming\\nltk_data...\n",
      "[nltk_data]   Package stopwords is already up-to-date!\n",
      "[nltk_data] Downloading package vader_lexicon to\n",
      "[nltk_data]     C:\\Users\\DELL\\AppData\\Roaming\\nltk_data...\n",
      "[nltk_data]   Package vader_lexicon is already up-to-date!\n"
     ]
    },
    {
     "data": {
      "text/plain": [
       "True"
      ]
     },
     "execution_count": 178,
     "metadata": {},
     "output_type": "execute_result"
    }
   ],
   "source": [
    "import nltk\n",
    "from nltk.tokenize import word_tokenize\n",
    "nltk.download('punkt')\n",
    "nltk.download('stopwords')\n",
    "nltk.download('vader_lexicon')"
   ]
  },
  {
   "cell_type": "markdown",
   "id": "3f9d2b9d",
   "metadata": {},
   "source": [
    "### work in sample example"
   ]
  },
  {
   "cell_type": "code",
   "execution_count": 179,
   "id": "5269cf0e",
   "metadata": {},
   "outputs": [],
   "source": [
    "# get tokens from review text\n",
    "df['review_text'] = df['review_text'].apply(lambda x: word_tokenize(x, preserve_line=True))\n",
    "\n",
    "# get tokens from review title\n",
    "df['review_title'] = df['review_title'].apply(lambda x: word_tokenize(x, preserve_line=True))"
   ]
  },
  {
   "cell_type": "markdown",
   "id": "e9f0e5f0",
   "metadata": {},
   "source": [
    "### detect stop words and remove theme"
   ]
  },
  {
   "cell_type": "code",
   "execution_count": 180,
   "id": "25ddf65e",
   "metadata": {},
   "outputs": [],
   "source": [
    "from nltk.corpus import stopwords"
   ]
  },
  {
   "cell_type": "code",
   "execution_count": 193,
   "id": "8b535004",
   "metadata": {},
   "outputs": [],
   "source": [
    "stop_words = set(stopwords.words('english'))\n",
    "\n",
    "# remove stop words from review text\n",
    "df['review_text'] = df['review_text'].apply(\n",
    "    lambda x: [\n",
    "        re.sub(r'[^a-zA-Z0-9]', '', word)  # Remove non-alphanumeric characters\n",
    "        for word in x if word.lower() not in stop_words\n",
    "    ]\n",
    ")\n",
    "\n",
    "# Remove any empty strings that may have resulted from the re.sub() removal\n",
    "df['review_text'] = df['review_text'].apply(\n",
    "    lambda x: [word for word in x if word != '']\n",
    ")\n",
    "\n",
    "\n",
    "# remove stop words from review title\n",
    "df['review_title'] = df['review_title'].apply(\n",
    "    lambda x: [\n",
    "        re.sub(r'[^a-zA-Z0-9]', '', word)  # Remove non-alphanumeric characters\n",
    "        for word in x if word.lower() not in stop_words\n",
    "    ]\n",
    ")\n",
    "\n",
    "# Remove any empty strings that may have resulted from the re.sub() removal\n",
    "df['review_title'] = df['review_title'].apply(\n",
    "    lambda x: [word for word in x if word != '']\n",
    ")"
   ]
  },
  {
   "cell_type": "code",
   "execution_count": 182,
   "id": "3d21c0bb",
   "metadata": {},
   "outputs": [
    {
     "data": {
      "text/html": [
       "<div>\n",
       "<style scoped>\n",
       "    .dataframe tbody tr th:only-of-type {\n",
       "        vertical-align: middle;\n",
       "    }\n",
       "\n",
       "    .dataframe tbody tr th {\n",
       "        vertical-align: top;\n",
       "    }\n",
       "\n",
       "    .dataframe thead th {\n",
       "        text-align: right;\n",
       "    }\n",
       "</style>\n",
       "<table border=\"1\" class=\"dataframe\">\n",
       "  <thead>\n",
       "    <tr style=\"text-align: right;\">\n",
       "      <th></th>\n",
       "      <th>class_index</th>\n",
       "      <th>review_title</th>\n",
       "      <th>review_text</th>\n",
       "    </tr>\n",
       "    <tr>\n",
       "      <th>review_id</th>\n",
       "      <th></th>\n",
       "      <th></th>\n",
       "      <th></th>\n",
       "    </tr>\n",
       "  </thead>\n",
       "  <tbody>\n",
       "    <tr>\n",
       "      <th>56213</th>\n",
       "      <td>2</td>\n",
       "      <td>[great, eppisode, great, extras]</td>\n",
       "      <td>[great, eppisode, great, extras]</td>\n",
       "    </tr>\n",
       "    <tr>\n",
       "      <th>48826</th>\n",
       "      <td>1</td>\n",
       "      <td>[wow, m, surprised, people, like, one, beatles]</td>\n",
       "      <td>[wow, m, surprised, people, like, one, beatles]</td>\n",
       "    </tr>\n",
       "    <tr>\n",
       "      <th>75300</th>\n",
       "      <td>1</td>\n",
       "      <td>[borderline]</td>\n",
       "      <td>[borderline]</td>\n",
       "    </tr>\n",
       "    <tr>\n",
       "      <th>84291</th>\n",
       "      <td>1</td>\n",
       "      <td>[rude, author]</td>\n",
       "      <td>[rude, author]</td>\n",
       "    </tr>\n",
       "    <tr>\n",
       "      <th>91693</th>\n",
       "      <td>2</td>\n",
       "      <td>[stunning, must]</td>\n",
       "      <td>[stunning, must]</td>\n",
       "    </tr>\n",
       "  </tbody>\n",
       "</table>\n",
       "</div>"
      ],
      "text/plain": [
       "           class_index                                     review_title  \\\n",
       "review_id                                                                 \n",
       "56213                2                 [great, eppisode, great, extras]   \n",
       "48826                1  [wow, m, surprised, people, like, one, beatles]   \n",
       "75300                1                                     [borderline]   \n",
       "84291                1                                   [rude, author]   \n",
       "91693                2                                 [stunning, must]   \n",
       "\n",
       "                                               review_text  \n",
       "review_id                                                   \n",
       "56213                     [great, eppisode, great, extras]  \n",
       "48826      [wow, m, surprised, people, like, one, beatles]  \n",
       "75300                                         [borderline]  \n",
       "84291                                       [rude, author]  \n",
       "91693                                     [stunning, must]  "
      ]
     },
     "execution_count": 182,
     "metadata": {},
     "output_type": "execute_result"
    }
   ],
   "source": [
    "df.sample(5)"
   ]
  },
  {
   "cell_type": "markdown",
   "id": "86fa42da",
   "metadata": {},
   "source": [
    "# Get Two arrays, bad and good reviwes"
   ]
  },
  {
   "cell_type": "code",
   "execution_count": 183,
   "id": "f87b2f54",
   "metadata": {},
   "outputs": [],
   "source": [
    "\n",
    "# Join the tokens in the 'review_title' and 'review_text' columns\n",
    "df['review_title'] = df['review_title'].apply(lambda x: ' '.join(x))\n",
    "df['review_text'] = df['review_text'].apply(lambda x: ' '.join(x))\n",
    "df['full_review'] = df['review_title'] + \" \" + df['review_text']"
   ]
  },
  {
   "cell_type": "code",
   "execution_count": 184,
   "id": "65b374c3",
   "metadata": {},
   "outputs": [],
   "source": [
    "goodReviews = df[df[\"class_index\"] == 2].copy()\n",
    "badReviews = df[df[\"class_index\"] == 1].copy()"
   ]
  },
  {
   "cell_type": "code",
   "execution_count": 185,
   "id": "5e968d63",
   "metadata": {},
   "outputs": [],
   "source": [
    "from nltk.sentiment import SentimentIntensityAnalyzer"
   ]
  },
  {
   "cell_type": "code",
   "execution_count": 186,
   "id": "8876be39-b5b0-4d12-afd7-db7e6cc5519d",
   "metadata": {},
   "outputs": [
    {
     "name": "stdout",
     "output_type": "stream",
     "text": [
      "Accuracy: 0.7884666666666666\n",
      "Classification Report:\n",
      "              precision    recall  f1-score   support\n",
      "\n",
      "           1       0.78      0.78      0.78     14468\n",
      "           2       0.80      0.80      0.80     15532\n",
      "\n",
      "    accuracy                           0.79     30000\n",
      "   macro avg       0.79      0.79      0.79     30000\n",
      "weighted avg       0.79      0.79      0.79     30000\n",
      "\n"
     ]
    }
   ],
   "source": [
    "X = df['review_text']\n",
    "y = df['class_index']\n",
    "\n",
    "X_train, X_test, y_train, y_test = train_test_split(X, y, test_size=0.3, random_state=42)\n",
    "\n",
    "# Convert text data into TF-IDF features\n",
    "vectorizer = TfidfVectorizer(stop_words='english')\n",
    "X_train_tfidf = vectorizer.fit_transform(X_train)\n",
    "X_test_tfidf = vectorizer.transform(X_test)\n",
    "\n",
    "# Train a Logistic Regression model\n",
    "model = LogisticRegression()\n",
    "model.fit(X_train_tfidf, y_train)\n",
    "\n",
    "# Make predictions\n",
    "y_pred = model.predict(X_test_tfidf)\n",
    "\n",
    "# Evaluate the model\n",
    "print(\"Accuracy:\", accuracy_score(y_test, y_pred))\n",
    "print(\"Classification Report:\")\n",
    "print(classification_report(y_test, y_pred))"
   ]
  },
  {
   "cell_type": "code",
   "execution_count": null,
   "id": "cd2dcaac-2218-4cc3-8257-15330c5569e2",
   "metadata": {},
   "outputs": [],
   "source": []
  },
  {
   "cell_type": "code",
   "execution_count": null,
   "id": "236b5b3d-9131-4741-ac9a-7ff379a6c7fa",
   "metadata": {},
   "outputs": [],
   "source": []
  }
 ],
 "metadata": {
  "kernelspec": {
   "display_name": "Python 3 (ipykernel)",
   "language": "python",
   "name": "python3"
  },
  "language_info": {
   "codemirror_mode": {
    "name": "ipython",
    "version": 3
   },
   "file_extension": ".py",
   "mimetype": "text/x-python",
   "name": "python",
   "nbconvert_exporter": "python",
   "pygments_lexer": "ipython3",
   "version": "3.12.4"
  }
 },
 "nbformat": 4,
 "nbformat_minor": 5
}
