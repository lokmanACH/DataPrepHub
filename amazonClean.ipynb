{
 "cells": [
  {
   "cell_type": "markdown",
   "id": "158691b0",
   "metadata": {},
   "source": []
  },
  {
   "cell_type": "markdown",
   "id": "f99813ff-4f1f-4cbe-b3bc-2da01a7d6624",
   "metadata": {},
   "source": [
    "# Import packages"
   ]
  },
  {
   "cell_type": "code",
   "execution_count": 1,
   "id": "564b6295-c3cb-4c1c-b6e0-12fa19a344f9",
   "metadata": {},
   "outputs": [],
   "source": [
    "import pandas as pd \n",
    "import seaborn as sns\n",
    "import matplotlib.pyplot as plt\n",
    "import re"
   ]
  },
  {
   "cell_type": "markdown",
   "id": "a801827c-3218-47a0-850e-077898967f68",
   "metadata": {},
   "source": [
    "# Read the dataset"
   ]
  },
  {
   "cell_type": "code",
   "execution_count": 2,
   "id": "527ab9eb-f69b-40ca-b2a6-c1fa676d5a68",
   "metadata": {},
   "outputs": [],
   "source": [
    "df = pd.read_csv(\"dataset/train.csv\", header=None, names=['class_index', 'review_title', 'review_text'])\n",
    "df.index.name = 'review_id'"
   ]
  },
  {
   "cell_type": "code",
   "execution_count": 3,
   "id": "e0a18da6-5a30-44a7-9164-f3bf7e9413f9",
   "metadata": {},
   "outputs": [
    {
     "data": {
      "text/plain": [
       "(3600000, 3)"
      ]
     },
     "execution_count": 3,
     "metadata": {},
     "output_type": "execute_result"
    }
   ],
   "source": [
    "df.shape"
   ]
  },
  {
   "cell_type": "code",
   "execution_count": 4,
   "id": "1e331c7f-dc78-488a-b259-753b29e2ce9a",
   "metadata": {},
   "outputs": [
    {
     "data": {
      "text/html": [
       "<div>\n",
       "<style scoped>\n",
       "    .dataframe tbody tr th:only-of-type {\n",
       "        vertical-align: middle;\n",
       "    }\n",
       "\n",
       "    .dataframe tbody tr th {\n",
       "        vertical-align: top;\n",
       "    }\n",
       "\n",
       "    .dataframe thead th {\n",
       "        text-align: right;\n",
       "    }\n",
       "</style>\n",
       "<table border=\"1\" class=\"dataframe\">\n",
       "  <thead>\n",
       "    <tr style=\"text-align: right;\">\n",
       "      <th></th>\n",
       "      <th>class_index</th>\n",
       "      <th>review_title</th>\n",
       "      <th>review_text</th>\n",
       "    </tr>\n",
       "    <tr>\n",
       "      <th>review_id</th>\n",
       "      <th></th>\n",
       "      <th></th>\n",
       "      <th></th>\n",
       "    </tr>\n",
       "  </thead>\n",
       "  <tbody>\n",
       "    <tr>\n",
       "      <th>0</th>\n",
       "      <td>2</td>\n",
       "      <td>Stuning even for the non-gamer</td>\n",
       "      <td>This sound track was beautiful! It paints the ...</td>\n",
       "    </tr>\n",
       "    <tr>\n",
       "      <th>1</th>\n",
       "      <td>2</td>\n",
       "      <td>The best soundtrack ever to anything.</td>\n",
       "      <td>I'm reading a lot of reviews saying that this ...</td>\n",
       "    </tr>\n",
       "    <tr>\n",
       "      <th>2</th>\n",
       "      <td>2</td>\n",
       "      <td>Amazing!</td>\n",
       "      <td>This soundtrack is my favorite music of all ti...</td>\n",
       "    </tr>\n",
       "    <tr>\n",
       "      <th>3</th>\n",
       "      <td>2</td>\n",
       "      <td>Excellent Soundtrack</td>\n",
       "      <td>I truly like this soundtrack and I enjoy video...</td>\n",
       "    </tr>\n",
       "    <tr>\n",
       "      <th>4</th>\n",
       "      <td>2</td>\n",
       "      <td>Remember, Pull Your Jaw Off The Floor After He...</td>\n",
       "      <td>If you've played the game, you know how divine...</td>\n",
       "    </tr>\n",
       "  </tbody>\n",
       "</table>\n",
       "</div>"
      ],
      "text/plain": [
       "           class_index                                       review_title  \\\n",
       "review_id                                                                   \n",
       "0                    2                     Stuning even for the non-gamer   \n",
       "1                    2              The best soundtrack ever to anything.   \n",
       "2                    2                                           Amazing!   \n",
       "3                    2                               Excellent Soundtrack   \n",
       "4                    2  Remember, Pull Your Jaw Off The Floor After He...   \n",
       "\n",
       "                                                 review_text  \n",
       "review_id                                                     \n",
       "0          This sound track was beautiful! It paints the ...  \n",
       "1          I'm reading a lot of reviews saying that this ...  \n",
       "2          This soundtrack is my favorite music of all ti...  \n",
       "3          I truly like this soundtrack and I enjoy video...  \n",
       "4          If you've played the game, you know how divine...  "
      ]
     },
     "execution_count": 4,
     "metadata": {},
     "output_type": "execute_result"
    }
   ],
   "source": [
    "df = df.head(100000)\n",
    "df.head()"
   ]
  },
  {
   "cell_type": "code",
   "execution_count": 5,
   "id": "3179c2ff",
   "metadata": {},
   "outputs": [
    {
     "name": "stdout",
     "output_type": "stream",
     "text": [
      "class_index\n",
      "2    51267\n",
      "1    48733\n",
      "Name: count, dtype: int64\n"
     ]
    },
    {
     "data": {
      "image/png": "[encoded data removed]",
      "text/plain": [
       "<Figure size 1000x400 with 1 Axes>"
      ]
     },
     "metadata": {},
     "output_type": "display_data"
    }
   ],
   "source": [
    "plt.figure(figsize=(10, 4))\n",
    "\n",
    "train_class_index_counts = df['class_index'].value_counts()\n",
    "print(train_class_index_counts)\n",
    "plt.subplot(1, 2, 1)\n",
    "train_class_index_counts.plot(kind='bar', color='skyblue')\n",
    "plt.title('Number of class index in train ')\n",
    "plt.xlabel('class_index')\n",
    "plt.ylabel('Number of samples')\n",
    "plt.xticks(rotation=0)\n",
    "\n",
    "\n",
    "plt.show()"
   ]
  },
  {
   "cell_type": "markdown",
   "id": "50752ff7",
   "metadata": {},
   "source": [
    "# Detect Missing Values"
   ]
  },
  {
   "cell_type": "code",
   "execution_count": 6,
   "id": "ded1c302-e0ca-46ba-860b-893b502062d1",
   "metadata": {},
   "outputs": [
    {
     "data": {
      "text/plain": [
       "<bound method DataFrame.info of            class_index review_title  \\\n",
       "review_id                             \n",
       "13265                1          NaN   \n",
       "26554                1          NaN   \n",
       "26827                2          NaN   \n",
       "36598                2          NaN   \n",
       "37347                2          NaN   \n",
       "\n",
       "                                                 review_text  \n",
       "review_id                                                     \n",
       "13265      Couldn't get the device to work with my networ...  \n",
       "26554      What separates this band from Evanescence (bes...  \n",
       "26827      Falkenbach returns with more of the Viking/Fol...  \n",
       "36598      I returned this because I received the same on...  \n",
       "37347      This book is a great fantasy. I love this amaz...  >"
      ]
     },
     "execution_count": 6,
     "metadata": {},
     "output_type": "execute_result"
    }
   ],
   "source": [
    "df[df.isnull().any(axis=1)].info"
   ]
  },
  {
   "cell_type": "markdown",
   "id": "af94836c",
   "metadata": {},
   "source": [
    "### drop the missing values"
   ]
  },
  {
   "cell_type": "code",
   "execution_count": 7,
   "id": "ef8be4ed-b4d0-4f92-b7ad-3f33d2ab8923",
   "metadata": {},
   "outputs": [],
   "source": [
    "df = df.dropna(how=\"any\")"
   ]
  },
  {
   "cell_type": "code",
   "execution_count": 8,
   "id": "5fca9e99",
   "metadata": {},
   "outputs": [
    {
     "name": "stdout",
     "output_type": "stream",
     "text": [
      "<class 'pandas.core.frame.DataFrame'>\n",
      "Index: 0 entries\n",
      "Data columns (total 3 columns):\n",
      " #   Column        Non-Null Count  Dtype \n",
      "---  ------        --------------  ----- \n",
      " 0   class_index   0 non-null      int64 \n",
      " 1   review_title  0 non-null      object\n",
      " 2   review_text   0 non-null      object\n",
      "dtypes: int64(1), object(2)\n",
      "memory usage: 0.0+ bytes\n"
     ]
    }
   ],
   "source": [
    "df[df.isnull().any(axis=1)].info()"
   ]
  },
  {
   "cell_type": "code",
   "execution_count": 9,
   "id": "ecb7d627-6672-4b64-94a9-1ddbaf74410d",
   "metadata": {},
   "outputs": [
    {
     "data": {
      "text/plain": [
       "<bound method DataFrame.info of            class_index                                       review_title  \\\n",
       "review_id                                                                   \n",
       "0                    2                     Stuning even for the non-gamer   \n",
       "1                    2              The best soundtrack ever to anything.   \n",
       "2                    2                                           Amazing!   \n",
       "3                    2                               Excellent Soundtrack   \n",
       "4                    2  Remember, Pull Your Jaw Off The Floor After He...   \n",
       "...                ...                                                ...   \n",
       "99995                2                                               Good   \n",
       "99996                1                                  THE REAL SUPERMAN   \n",
       "99997                1  It gets one star because zero was not an optio...   \n",
       "99998                1                             Don't Spend Your Money   \n",
       "99999                1                                     Enough already   \n",
       "\n",
       "                                                 review_text  \n",
       "review_id                                                     \n",
       "0          This sound track was beautiful! It paints the ...  \n",
       "1          I'm reading a lot of reviews saying that this ...  \n",
       "2          This soundtrack is my favorite music of all ti...  \n",
       "3          I truly like this soundtrack and I enjoy video...  \n",
       "4          If you've played the game, you know how divine...  \n",
       "...                                                      ...  \n",
       "99995      very good excelent fantastic wonderful muy bue...  \n",
       "99996      THESE ARE THE REAL ADVENTURES OF THE REAL SUPE...  \n",
       "99997      Sylvain Beauregard is WIDELY known to die-hard...  \n",
       "99998      I think I now know more about the person who w...  \n",
       "99999      This is what you call \"overkill.\" How many boo...  \n",
       "\n",
       "[99995 rows x 3 columns]>"
      ]
     },
     "execution_count": 9,
     "metadata": {},
     "output_type": "execute_result"
    }
   ],
   "source": [
    "df.info"
   ]
  },
  {
   "cell_type": "code",
   "execution_count": 10,
   "id": "c2e6a9f3-0e86-470c-ae8e-0be9f8304fc6",
   "metadata": {},
   "outputs": [
    {
     "data": {
      "text/plain": [
       "np.int64(99995)"
      ]
     },
     "execution_count": 10,
     "metadata": {},
     "output_type": "execute_result"
    }
   ],
   "source": [
    "df.duplicated().count()"
   ]
  },
  {
   "cell_type": "markdown",
   "id": "4ce768d3",
   "metadata": {},
   "source": [
    "# Text Cleaning"
   ]
  },
  {
   "cell_type": "markdown",
   "id": "a26cd1a3",
   "metadata": {},
   "source": [
    "### Convert Text To Lowercase"
   ]
  },
  {
   "cell_type": "code",
   "execution_count": 11,
   "id": "dd29bec8",
   "metadata": {},
   "outputs": [
    {
     "data": {
      "text/plain": [
       "class_index     87886\n",
       "review_title    87886\n",
       "review_text     87886\n",
       "dtype: int64"
      ]
     },
     "execution_count": 11,
     "metadata": {},
     "output_type": "execute_result"
    }
   ],
   "source": [
    "df[df['review_title'].str.contains(r'[A-Z]', na=False)].count()"
   ]
  },
  {
   "cell_type": "code",
   "execution_count": 12,
   "id": "9566d75d",
   "metadata": {},
   "outputs": [],
   "source": [
    "# Filter rows where 'review_title' contains uppercase letters\n",
    "uppercase_rows = df[df['review_title'].str.contains(r'[A-Z]', na=False)]\n",
    "\n",
    "# Convert 'review_title' in those rows to lowercase\n",
    "df.loc[uppercase_rows.index, 'review_title'] = df.loc[uppercase_rows.index, 'review_title'].str.lower()\n",
    "\n"
   ]
  },
  {
   "cell_type": "code",
   "execution_count": 13,
   "id": "dad6df4a",
   "metadata": {},
   "outputs": [
    {
     "data": {
      "text/plain": [
       "class_index     0\n",
       "review_title    0\n",
       "review_text     0\n",
       "dtype: int64"
      ]
     },
     "execution_count": 13,
     "metadata": {},
     "output_type": "execute_result"
    }
   ],
   "source": [
    "df[df['review_title'].str.contains(r'[A-Z]', na=False)].count()"
   ]
  },
  {
   "cell_type": "code",
   "execution_count": 14,
   "id": "b2121491",
   "metadata": {},
   "outputs": [
    {
     "data": {
      "text/plain": [
       "class_index     97538\n",
       "review_title    97538\n",
       "review_text     97538\n",
       "dtype: int64"
      ]
     },
     "execution_count": 14,
     "metadata": {},
     "output_type": "execute_result"
    }
   ],
   "source": [
    "df[df[\"review_text\"].str.contains(r'[A-Z]', na=False)].count()"
   ]
  },
  {
   "cell_type": "code",
   "execution_count": 15,
   "id": "d1b8afb4",
   "metadata": {},
   "outputs": [],
   "source": [
    "# Filter rows where 'review_text' contains uppercase letters\n",
    "uppercase_rows = df[df['review_text'].str.contains(r'[A-Z]', na=False)]\n",
    "\n",
    "# Convert 'review_title' in those rows to lowercase\n",
    "df.loc[uppercase_rows.index, 'review_text'] = df.loc[uppercase_rows.index, 'review_title'].str.lower()"
   ]
  },
  {
   "cell_type": "code",
   "execution_count": 16,
   "id": "463a16f5",
   "metadata": {},
   "outputs": [
    {
     "data": {
      "text/plain": [
       "class_index     0\n",
       "review_title    0\n",
       "review_text     0\n",
       "dtype: int64"
      ]
     },
     "execution_count": 16,
     "metadata": {},
     "output_type": "execute_result"
    }
   ],
   "source": [
    "df[df[\"review_text\"].str.contains(r'[A-Z]', na=False)].count()"
   ]
  },
  {
   "cell_type": "code",
   "execution_count": 17,
   "id": "5d825123",
   "metadata": {},
   "outputs": [
    {
     "name": "stdout",
     "output_type": "stream",
     "text": [
      "<class 'pandas.core.frame.DataFrame'>\n",
      "Index: 99995 entries, 0 to 99999\n",
      "Data columns (total 3 columns):\n",
      " #   Column        Non-Null Count  Dtype \n",
      "---  ------        --------------  ----- \n",
      " 0   class_index   99995 non-null  int64 \n",
      " 1   review_title  99995 non-null  object\n",
      " 2   review_text   99995 non-null  object\n",
      "dtypes: int64(1), object(2)\n",
      "memory usage: 5.1+ MB\n"
     ]
    }
   ],
   "source": [
    "df.info()"
   ]
  },
  {
   "cell_type": "markdown",
   "id": "d90b0baa",
   "metadata": {},
   "source": [
    "## Get Tokens"
   ]
  },
  {
   "cell_type": "code",
   "execution_count": 18,
   "id": "11d15de7",
   "metadata": {},
   "outputs": [
    {
     "name": "stderr",
     "output_type": "stream",
     "text": [
      "[nltk_data] Downloading package punkt to\n",
      "[nltk_data]     C:\\Users\\DELL\\AppData\\Roaming\\nltk_data...\n",
      "[nltk_data]   Package punkt is already up-to-date!\n",
      "[nltk_data] Downloading package stopwords to\n",
      "[nltk_data]     C:\\Users\\DELL\\AppData\\Roaming\\nltk_data...\n",
      "[nltk_data]   Package stopwords is already up-to-date!\n"
     ]
    },
    {
     "data": {
      "text/plain": [
       "True"
      ]
     },
     "execution_count": 18,
     "metadata": {},
     "output_type": "execute_result"
    }
   ],
   "source": [
    "import nltk\n",
    "from nltk.tokenize import word_tokenize\n",
    "nltk.download('punkt')\n",
    "nltk.download('stopwords')"
   ]
  },
  {
   "cell_type": "markdown",
   "id": "3f9d2b9d",
   "metadata": {},
   "source": [
    "### work in sample example"
   ]
  },
  {
   "cell_type": "code",
   "execution_count": 19,
   "id": "5269cf0e",
   "metadata": {},
   "outputs": [],
   "source": [
    "# dfCopy = df.head().copy()\n",
    "\n",
    "# get tokens from review text\n",
    "df['review_text'] = df['review_text'].apply(lambda x: word_tokenize(x, preserve_line=True))\n",
    "\n",
    "# get tokens from review title\n",
    "df['review_title'] = df['review_title'].apply(lambda x: word_tokenize(x, preserve_line=True))"
   ]
  },
  {
   "cell_type": "markdown",
   "id": "e9f0e5f0",
   "metadata": {},
   "source": [
    "### detect stop words and remove theme"
   ]
  },
  {
   "cell_type": "code",
   "execution_count": 20,
   "id": "25ddf65e",
   "metadata": {},
   "outputs": [],
   "source": [
    "from nltk.corpus import stopwords"
   ]
  },
  {
   "cell_type": "code",
   "execution_count": 21,
   "id": "8b535004",
   "metadata": {},
   "outputs": [],
   "source": [
    "stop_words = set(stopwords.words('english'))\n",
    "\n",
    "# remove stop words from review text\n",
    "df['review_text'] = df['review_text'].apply(\n",
    "    lambda x: [\n",
    "        re.sub(r'[^a-zA-Z0-9]', '', word)  # Remove non-alphanumeric characters\n",
    "        for word in x if word.lower() not in stop_words\n",
    "    ]\n",
    ")\n",
    "\n",
    "# Remove any empty strings that may have resulted from the re.sub() removal\n",
    "df['review_text'] = df['review_text'].apply(\n",
    "    lambda x: [word for word in x if word != '']\n",
    ")\n",
    "\n",
    "\n",
    "# remove stop words from review title\n",
    "df['review_title'] = df['review_title'].apply(\n",
    "    lambda x: [\n",
    "        re.sub(r'[^a-zA-Z0-9]', '', word)  # Remove non-alphanumeric characters\n",
    "        for word in x if word.lower() not in stop_words\n",
    "    ]\n",
    ")\n",
    "\n",
    "# Remove any empty strings that may have resulted from the re.sub() removal\n",
    "df['review_title'] = df['review_title'].apply(\n",
    "    lambda x: [word for word in x if word != '']\n",
    ")"
   ]
  },
  {
   "cell_type": "code",
   "execution_count": 22,
   "id": "3d21c0bb",
   "metadata": {},
   "outputs": [
    {
     "data": {
      "text/html": [
       "<div>\n",
       "<style scoped>\n",
       "    .dataframe tbody tr th:only-of-type {\n",
       "        vertical-align: middle;\n",
       "    }\n",
       "\n",
       "    .dataframe tbody tr th {\n",
       "        vertical-align: top;\n",
       "    }\n",
       "\n",
       "    .dataframe thead th {\n",
       "        text-align: right;\n",
       "    }\n",
       "</style>\n",
       "<table border=\"1\" class=\"dataframe\">\n",
       "  <thead>\n",
       "    <tr style=\"text-align: right;\">\n",
       "      <th></th>\n",
       "      <th>class_index</th>\n",
       "      <th>review_title</th>\n",
       "      <th>review_text</th>\n",
       "    </tr>\n",
       "    <tr>\n",
       "      <th>review_id</th>\n",
       "      <th></th>\n",
       "      <th></th>\n",
       "      <th></th>\n",
       "    </tr>\n",
       "  </thead>\n",
       "  <tbody>\n",
       "    <tr>\n",
       "      <th>5701</th>\n",
       "      <td>1</td>\n",
       "      <td>[waste, nt, buy, save, money]</td>\n",
       "      <td>[waste, nt, buy, save, money]</td>\n",
       "    </tr>\n",
       "    <tr>\n",
       "      <th>16142</th>\n",
       "      <td>1</td>\n",
       "      <td>[pump, broke, finishing, ball]</td>\n",
       "      <td>[pump, broke, finishing, ball]</td>\n",
       "    </tr>\n",
       "    <tr>\n",
       "      <th>51636</th>\n",
       "      <td>2</td>\n",
       "      <td>[great, second, car]</td>\n",
       "      <td>[great, have, nt, keep, switching, car, seat, ...</td>\n",
       "    </tr>\n",
       "    <tr>\n",
       "      <th>25924</th>\n",
       "      <td>1</td>\n",
       "      <td>[unimaginative, recording]</td>\n",
       "      <td>[unimaginative, recording]</td>\n",
       "    </tr>\n",
       "    <tr>\n",
       "      <th>82708</th>\n",
       "      <td>2</td>\n",
       "      <td>[sick, girl, sick, fun]</td>\n",
       "      <td>[sick, girl, sick, fun]</td>\n",
       "    </tr>\n",
       "  </tbody>\n",
       "</table>\n",
       "</div>"
      ],
      "text/plain": [
       "           class_index                    review_title  \\\n",
       "review_id                                                \n",
       "5701                 1   [waste, nt, buy, save, money]   \n",
       "16142                1  [pump, broke, finishing, ball]   \n",
       "51636                2            [great, second, car]   \n",
       "25924                1      [unimaginative, recording]   \n",
       "82708                2         [sick, girl, sick, fun]   \n",
       "\n",
       "                                                 review_text  \n",
       "review_id                                                     \n",
       "5701                           [waste, nt, buy, save, money]  \n",
       "16142                         [pump, broke, finishing, ball]  \n",
       "51636      [great, have, nt, keep, switching, car, seat, ...  \n",
       "25924                             [unimaginative, recording]  \n",
       "82708                                [sick, girl, sick, fun]  "
      ]
     },
     "execution_count": 22,
     "metadata": {},
     "output_type": "execute_result"
    }
   ],
   "source": [
    "df.sample(5)"
   ]
  }
 ],
 "metadata": {
  "kernelspec": {
   "display_name": "Python 3",
   "language": "python",
   "name": "python3"
  },
  "language_info": {
   "codemirror_mode": {
    "name": "ipython",
    "version": 3
   },
   "file_extension": ".py",
   "mimetype": "text/x-python",
   "name": "python",
   "nbconvert_exporter": "python",
   "pygments_lexer": "ipython3",
   "version": "3.13.0"
  }
 },
 "nbformat": 4,
 "nbformat_minor": 5
}
