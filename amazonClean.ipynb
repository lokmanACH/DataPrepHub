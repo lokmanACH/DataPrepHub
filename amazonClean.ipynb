{
 "cells": [
  {
   "cell_type": "markdown",
   "id": "f99813ff-4f1f-4cbe-b3bc-2da01a7d6624",
   "metadata": {},
   "source": [
    "# Import packages"
   ]
  },
  {
   "cell_type": "code",
   "execution_count": 7,
   "id": "564b6295-c3cb-4c1c-b6e0-12fa19a344f9",
   "metadata": {},
   "outputs": [],
   "source": [
    "import pandas as pd"
   ]
  },
  {
   "cell_type": "markdown",
   "id": "a801827c-3218-47a0-850e-077898967f68",
   "metadata": {},
   "source": [
    "# Read the dataset"
   ]
  },
  {
   "cell_type": "code",
   "execution_count": null,
   "id": "527ab9eb-f69b-40ca-b2a6-c1fa676d5a68",
   "metadata": {},
   "outputs": [],
   "source": [
    "df = pd.read_csv(\"dataset/test.csv\")\n",
    "df.head()"
   ]
  },
  {
   "cell_type": "code",
   "execution_count": null,
   "id": "e74847bc-f8e8-4aee-814a-0f7d96097352",
   "metadata": {},
   "outputs": [],
   "source": []
  }
 ],
 "metadata": {
  "kernelspec": {
   "display_name": "Python 3 (ipykernel)",
   "language": "python",
   "name": "python3"
  },
  "language_info": {
   "codemirror_mode": {
    "name": "ipython",
    "version": 3
   },
   "file_extension": ".py",
   "mimetype": "text/x-python",
   "name": "python",
   "nbconvert_exporter": "python",
   "pygments_lexer": "ipython3",
   "version": "3.12.4"
  }
 },
 "nbformat": 4,
 "nbformat_minor": 5
}
